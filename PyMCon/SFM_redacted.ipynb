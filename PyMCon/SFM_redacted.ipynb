{
  "cells": [
    {
      "cell_type": "markdown",
      "metadata": {
        "id": "-Uz0IkEKTzxb"
      },
      "source": [
        "[![Open In Colab](https://colab.research.google.com/assets/colab-badge.svg)](https://colab.research.google.com/github/maxi-tb22/SFM/blob/main/PyMCon/SFM_redacted.ipynb)\n",
        "\n",
        "\n",
        "<h1 align=\"center\"><strong><font size=\"6\"> The Soccer-Factor-Model <br> Identifying a Soccer-Player's Skill/Ability via Bayesian Logistic Regression </h1></strong></font>\n",
        "\n",
        "<br>\n",
        "\n",
        "(Actually, it's football, the *jogo bonito* that you play with your feet. But oddly, Americans call it *soccer*.)\n",
        "\n",
        "\n",
        "Welcome to the notebook hosting the **Soccer-Factor-Model** (SFM). Before jumping into a short introduction into what the SFM actually is, I would like to make a few remarks upfront:\n",
        "\n",
        "1. The SFM is not confined to soccer only, but can easliy be adpated to all kinds of other sports: football, baseball, basketball, Formula 1, etc. The only requirement: **data on individual players and/or teams**.\n",
        "\n",
        "2. The model itself is implemented with the enormous help of **[#PyMC](https://www.pymc.io/welcome.html)**.\n",
        "\n",
        "3. Given that **[#PyMC](https://www.pymc.io/welcome.html)** thankfully does all the heavy work, the actual **star** of the analysis is not the model construction and estimation, but rather the data/feature engineering part.\n",
        "\n",
        "<br>\n"
      ]
    },
    {
      "cell_type": "markdown",
      "source": [
        "<br>\n",
        "<br>\n",
        "\n",
        "## <font size=\"6.5\"> &emsp; &emsp; **0. &emsp; Pre-Game Ramblings**</font>"
      ],
      "metadata": {
        "id": "iTwmrYIaOcww"
      }
    },
    {
      "cell_type": "markdown",
      "source": [
        "<br>\n",
        "\n",
        "## 0.1 &emsp; What's the Soccer-Factor-Model all about?\n",
        "\n",
        "<br>"
      ],
      "metadata": {
        "id": "DObkizE8PqoD"
      }
    },
    {
      "cell_type": "markdown",
      "source": [
        "### **The Inspiration**\n",
        "The Soccer-Factor-Model (SFM) is inspired by the academic literature on asset-pricing along the following lines:\n",
        "\n",
        "> 1. Factor Models à la [Fama & French](https://onlinelibrary.wiley.com/doi/full/10.1111/j.1540-6261.1992.tb04398.x) use \"factors\" to explain the cross-section of stock returns. <br>\n",
        " --> **here**: we use \"Team-Factors\" to explain away the role of the team's strength in making a given player $i$ score a goal.\n",
        "\n",
        "> 2. There is some literature on the skill of investment fund managers that works in a similar way: \"explain away\" that proportation of a Fund's returns that is related to economic fundamentals (e.g. [Coggin, Fabozzi, Rahman (1993)](https://onlinelibrary.wiley.com/doi/10.1111/j.1540-6261.1993.tb04029.x); [Fama & French (2010)](https://onlinelibrary.wiley.com/doi/10.1111/j.1540-6261.2010.01598.x); [Berg & van Binsbergen (2015)](https://www.sciencedirect.com/science/article/pii/S0304405X15000628)):\n",
        "\\begin{align}\n",
        "  r_{p,t} = \\alpha_p + \\sum^N_{n=1} \\beta_n \\, f_{n,t} + \\varepsilon_{p,t}\n",
        "\\end{align} <br>\n",
        " where $r_{p,t}$ is portfolio $p$'s return in excess of the risk-free rate (e.g. short-term U.S. government bonds). $f_{n,t}$ measures the return that one could generate by following the strategy prescribed by **factor $n$**, and $\\varepsilon_{p,t}$ is a random error that is usually assumed to be mean zero. <br> The parameter of interest here is $\\mathbf{\\alpha_p}$. It is that part of a portfolio's conditional mean, that is not to be explained by the factors $f_{1,t},...,f_{N,t}$, and is a measure of the portfolio manager's **skill/ability**. Said differently: it quantifies the manager's ability to generate returns **beyond** the return you would have received by just following the investment strategy dictated by the factors.\n",
        "\n",
        "\n",
        "<br>"
      ],
      "metadata": {
        "id": "cAF7JQLxPJHf"
      }
    },
    {
      "cell_type": "markdown",
      "source": [
        "\n",
        "### **From Asset-Pricing to Soccer**\n",
        "\n",
        "In our case, the \"dependent variable\"/\"label\"/\"outcome variable\" ($y_{i,s,m}$) will be a binary indicator, telling us whether player $i$ has scored a goal (or not) in season $s$ in match $m$:\n",
        "\n",
        "\\begin{align}\n",
        "        y_{i,s,m} = \\left\\{\n",
        "        \\begin{array}{cl}\n",
        "        0 & \\textbf{not} \\text{ scored} \\\\\n",
        "        1 & \\text{scored}\n",
        "        \\end{array}\n",
        "        \\right.\n",
        "\\end{align}\n",
        "\n",
        "\n",
        "\n",
        "\n",
        "> *Sidenote*: This binary classification exercise is just a way to keep things simple. One may also want to predict the *number* of goals in a given match, which would make it for a multiclass extension.\n",
        "\n",
        "<br>\n",
        "\n",
        "The SFM is then set-up as follows:\n",
        "\n",
        "<br>\n",
        "\n",
        "\\begin{align}\n",
        "     p_{i,s,m} \\equiv   P\\left(y_{i,s,m} = 1 | \\mathbf{x}_{i,s,m-1}, \\alpha_i, \\beta \\right) = \\sigma \\left(\\alpha_{i} + \\mathbf{x}_{i,s,m-1} \\, \\mathbf{\\beta} \\right) \\qquad \\left( M.1 \\right)\n",
        "\\end{align}\n",
        "\n",
        "<br>\n",
        "\n",
        "where\n",
        "\n",
        "> - $p_{i,s,m}$: &ensp;&ensp;&emsp; The probability of player $i$ scoring a goal in season $s$ in match $m$ *conditional* on $\\mathbf{x}_{i,s,m-1}$, $\\alpha_i$, and $\\beta \\;$ ;\n",
        "\n",
        "> - $\\mathbf{x}_{i,s,m-1}$: &emsp; A $\\; 1 \\times N$ vector of *factors* that are intended to resemble the imbalance between player $i$'s team and the <br> &ensp;&ensp;&ensp;&ensp;&ensp;&ensp;&ensp;&ensp; opponent-team. The subscript $m-1$ signals that these *factors* only contain information about the teams' <br> &ensp;&ensp;&ensp;&ensp;&ensp;&ensp;&ensp;&ensp; differences that prevails **before** the referee blows the whistle to start off match $m$ ! <br> &ensp;&ensp;&ensp;&ensp;&ensp;&ensp;&ensp;&ensp; Again, to be clear, these *factors* are intended to explain that fraction of $p_{i,s,m}$ that is due to the difference in the <br> &ensp;&ensp;&ensp;&ensp;&ensp;&ensp;&ensp;&ensp; strength  of player $i$'s team and the opponent-team;\n",
        "\n",
        "> - $\\beta$: &ensp;&ensp;&ensp;&ensp;&ensp;&emsp; The sensitivity of $p_{i,s,m}$ to the factors $\\mathbf{x}_{i,s,m} \\;$;\n",
        "\n",
        "> - $\\alpha_i$: &ensp;&ensp;&ensp;&ensp;&ensp; Our main parameter of interest as it captures that fraction of $p_{i,s,m}$ that is attributed toplayer $i$'s skill/ability only! <br> &ensp;&ensp;&ensp;&ensp;&ensp;&ensp;&ensp;&ensp; (Yes, later on, this parameter will carry a subscript $s$, $\\alpha_{i,s} \\;$, allowing a player's skill/ability to vary across seasons);\n",
        "\n",
        "> - $\\sigma \\left(\\cdot\\right)$: &ensp;&ensp;&emsp; The $\\mathtt{sigmoid}$ function, which transforms the predictions of the linear model $\\alpha_i + \\mathbf{X}_i \\, \\mathbf{\\beta}$ into a number that <br> &ensp;&ensp;&ensp;&ensp;&ensp;&ensp;&ensp;&ensp; ranges between zero and one, such that $p_{i,s,m} \\in \\left[0;1\\right]$.\n",
        "\n",
        "\n",
        "<br>\n",
        "\n",
        "Just for notational convenience, we will re-write Equation ($M.1$) to get rid off the subscripts $s$ and $m$:\n",
        "\n",
        "<br>\n",
        "\n",
        "\\begin{align}\n",
        "     p_{i} \\equiv   P\\left(Y_{i} = 1 | \\mathbf{X}_{i}, \\alpha_i, \\beta \\right) = \\sigma \\left(\\alpha_{i} + \\mathbf{X}_{i} \\, \\mathbf{\\beta} \\right) \\qquad \\left( 1 \\right )\n",
        "\\end{align}\n",
        "\n",
        "<br>\n",
        "\n",
        "where now\n",
        "\n",
        "> - $Y_{i}$: &ensp;&ensp;&ensp;&ensp;&ensp; A $\\; \\left(\\sum^{S_i}_{s=1} M_{i,s}\\right) \\times 1$ vector of zeros and ones,\n",
        "> - $\\mathbf{X}_i$: &ensp;&ensp;&ensp;&ensp;&emsp; A $\\; \\left(\\sum^{S_i}_{s=1} M_{i,s}\\right) \\times N$ matrix of *factors*\n",
        "> > where\n",
        "> > - $S_i$:  &ensp;&ensp;&ensp; The total number of seasons player $i$ has played,\n",
        "> > - $M_{i,s}$: &ensp; The total number of matches played by player $i$ in season $s$.\n",
        "> - $p_{i}$: &ensp;&ensp;&ensp;&ensp;&ensp; With a slight abuse of notation, a $\\; \\left(\\sum^{S_i}_{s=1} M_{i,s}\\right) \\times 1$ vector of probabilities, with $p_{i} \\in \\left[0;1\\right]$.\n",
        "\n",
        "<br>\n",
        "\n",
        "<font color='darkred'>**IMPORTANT**</font>: &emsp; The explanatory variables (*factors*, $\\mathbf{X}_i$) describe the *state* that had persisted **before** a given match $m$ was played.  <br>\n",
        "&emsp;&emsp;&emsp;&emsp;&emsp;&emsp;&emsp;&emsp;&emsp;&emsp;&emsp;&emsp;&emsp;&emsp;&emsp;&emsp;&emsp;&emsp;&emsp;&emsp;&emsp;&emsp;&emsp; E.g., when we observe $y_{i,s,m}$, the *factors* will only capture information that was available to us **prior to** match $m$! <br>\n",
        "&emsp;&emsp;&emsp;&emsp;&emsp;&emsp;&emsp;&emsp;&emsp;&emsp;&emsp;&emsp;&emsp;&emsp;&emsp;&emsp;&emsp;&emsp;&emsp;&emsp;&emsp;&emsp;&emsp; Therefore, we will have the following mapping: $y_{i,s,m} \\rightarrow \\mathbf{x}_{i,s,m-1}$.\n",
        "\n",
        "<br>"
      ],
      "metadata": {
        "id": "4KOGUtFUPehT"
      }
    },
    {
      "cell_type": "markdown",
      "source": [
        "<br>\n",
        "\n",
        "## 0.2 &emsp; Factors: The Heart of the SFM\n",
        "\n",
        "<br>\n",
        "\n"
      ],
      "metadata": {
        "id": "Tcy6PHBgPws3"
      }
    },
    {
      "cell_type": "markdown",
      "source": [
        "Factors are intended to help us understand which part of $p_i$ is due to the strength of the **team** ( $\\mathbf{X}_i \\, \\mathbf{\\beta}$ ) that player $i$ is playing for, and which proportion of $p_i$ is due to player $i$'s **own** ($\\alpha_i$) skill/ability. In that sense, $\\alpha_i$ is our main parameter of interest as it gives us a measure of the **skill/ability** of player $i$ to score a goal.\n",
        "\n",
        "<font color='darkred'>**NOTE**</font>: &emsp; Hard-core finance academics might be outraged with me making a comparison between the SFM-factors ($\\mathbf{x}_{i,s,m-1}$) that I introduce below, and the **true** asset-pricing factors ($f_t$) mentioned above.\n",
        "One reason is that the SFM-factors carry an additional subscript $i$, which indicates that these factors vary across teams or even across players. In contrast, the traditional asset-pricing factors are only varying across time, but are *invariant* across entities.\n",
        "\n",
        "<br>"
      ],
      "metadata": {
        "id": "a2n-6vwlP5Ed"
      }
    },
    {
      "cell_type": "markdown",
      "source": [
        "<br>\n",
        "\n",
        "## 0.3 &emsp; Factor Engineering\n",
        "\n",
        "<br>"
      ],
      "metadata": {
        "id": "Yu5Vo3IHQKNW"
      }
    },
    {
      "cell_type": "markdown",
      "source": [
        "The number of *factors* we can build and their informative value, depends obviously on the data that is available to us. For the following exercise, I depend on publicly available data free of charge. That is already a limitation for producing a meaningful model.\n",
        "\n",
        "However, I guess I found a decent dataset, which I pulled from [#Kaggle](https://www.kaggle.com/datasets/marclamyhshshs/premier-league-games?select=clean_players_info.csv).\n",
        "All credits for that dataset go to [Marc Lamyhshshs](https://www.kaggle.com/marclamyhshshs).\n",
        "It comprises all Premier League matches since 1992, which allows us to look at some very, very, very interesting players!\n",
        "\n",
        "The amount of data is surely impressive! This allows us to create some interesting *factors*.\n",
        "\n",
        "<br>\n",
        "\n",
        "To showcase how SFM works, I chose to construct the following ones:\n",
        "\n",
        "- `goalsscored_diff`: &ensp;&ensp;&ensp;&ensp;&ensp;&ensp;&ensp;&ensp;&ensp;&ensp;&ensp;&ensp;&ensp;&ensp;&ensp;&ensp; The current difference of *goals scored* by player $i$'s team and the opponent-team\n",
        "- `goalsscored_rank_team`: &ensp;&ensp;&ensp;&ensp;&ensp;&ensp;&ensp;&ensp;&ensp;&ensp;&ensp; The current ranking of player $i$'s team in *goals scored*\n",
        "- `goalsscored_rank_team_wo_player`: &emsp; The current ranking of player $i$'s team in *goals scored*, not accounting for <br> &ensp;&ensp;&ensp;&ensp;&ensp;&ensp;&ensp;&ensp;&ensp;&ensp;&ensp;&ensp;&ensp;&ensp;&ensp;&ensp;&ensp;&ensp;&ensp;&ensp;&ensp;&ensp;&ensp;&ensp;&ensp;&ensp;&ensp;&ensp;&ensp;&ensp;&ensp;&ensp;&ensp;&emsp;&emsp; the number of goals scored by player $i$\n",
        "- `goalsconceded_rank_opp`: &ensp;&ensp;&ensp;&ensp;&ensp;&ensp;&ensp;&ensp;&ensp;&emsp; The current ranking of the opponent-team in *goals conceded*\n",
        "- `points_diff`: &ensp;&ensp;&ensp;&ensp;&ensp;&ensp;&ensp;&ensp;&ensp;&ensp;&ensp;&ensp;&ensp;&ensp;&ensp;&ensp;&ensp;&ensp;&ensp;&ensp;&emsp;&emsp; The difference in points of the player's team and the opponent\n",
        "- `goal_balance_team`: &ensp;&ensp;&ensp;&ensp;&ensp;&ensp;&ensp;&ensp;&ensp;&ensp;&ensp;&ensp;&ensp;&ensp;&ensp; The difference between *goals scored* and *goals conceded* of the team which <br> &ensp;&ensp;&ensp;&ensp;&ensp;&ensp;&ensp;&ensp;&ensp;&ensp;&ensp;&ensp;&ensp;&ensp;&ensp;&ensp;&ensp;&ensp;&ensp;&ensp;&ensp;&ensp;&ensp;&ensp;&ensp;&ensp;&ensp;&ensp;&ensp;&ensp;&ensp;&ensp;&ensp;&emsp;&emsp; our player of interest is playing for\n",
        "- `goal_balance_opp`: &ensp;&ensp;&ensp;&ensp;&ensp;&ensp;&ensp;&ensp;&ensp;&ensp;&ensp;&ensp;&ensp;&ensp;&ensp;&ensp; The difference between *goals scored* and *goals conceded* of the opponent-team which <br> &ensp;&ensp;&ensp;&ensp;&ensp;&ensp;&ensp;&ensp;&ensp;&ensp;&ensp;&ensp;&ensp;&ensp;&ensp;&ensp;&ensp;&ensp;&ensp;&ensp;&ensp;&ensp;&ensp;&ensp;&ensp;&ensp;&ensp;&ensp;&ensp;&ensp;&ensp;&ensp;&ensp;&emsp;&emsp; our player of interest is playing against in match $m$\n",
        "- `goal_balance_diff`: &ensp;&ensp;&ensp;&ensp;&ensp;&ensp;&ensp;&ensp;&ensp;&ensp;&ensp;&ensp;&ensp;&ensp;&ensp; The difference between `goal_balance_team` and `goal_balance_opp`\n",
        "\n",
        "\n",
        "Throughout the notebook, I attached some questions about whether a given factor is actually related to team-effort or actually an indication of a player's strength ... if the latter were true, we should exclude that particular factor as our model would be mis-specified! Or we would just hope that the posterior of the corresponding loading is centered around zero with only little variance...\n",
        "\n",
        "\n",
        "<br>\n",
        "\n",
        "<font color='darkred'>**Lastly:**</font> : This list of factors is by no means comprehensive and much more creative minds might already have thought of many more fancy factors to built from the underlying data.\n",
        "Feel free to build your own factors! Data on `shots_home` and `shots_away` sound to have potential to form other interesting explanatory variables that I haven't included yet!\n",
        "\n",
        "\n",
        "<br>"
      ],
      "metadata": {
        "id": "0QjIZLRBQK1K"
      }
    },
    {
      "cell_type": "markdown",
      "source": [
        "<br>\n",
        "\n",
        "## 0.4 &emsp; Outline of the Notebook\n"
      ],
      "metadata": {
        "id": "8qsWYhrlUF0t"
      }
    },
    {
      "cell_type": "markdown",
      "source": [
        "1. **Section 1**: this section just loads the data and constructs the factors. There is nothing for the user to do. Nonetheless, feel free to have a deeper look into the factor constructions and even create your own ones!\n",
        "\n",
        "2. **Section 2**: this section consists of two applications and *occassionally* asks the user to code herself.\n",
        "\n",
        "3. **Section 3**: nothing to do."
      ],
      "metadata": {
        "id": "OKNetaN9UCgk"
      }
    },
    {
      "cell_type": "markdown",
      "source": [
        "<br>\n",
        "\n",
        "## 0.5 &emsp; Instructions on how to use the notebook\n"
      ],
      "metadata": {
        "id": "C4GKEEX1S5c3"
      }
    },
    {
      "cell_type": "markdown",
      "source": [
        "This only regards **Section 2**.\n",
        "\n",
        "<br>\n",
        "\n",
        "> **Some cells are titled \"USER INTERACTION\".** <br>\n",
        "- In order to complete this notebook, there is nothing for you to do here. These cells already carry the *default settings*, which will be applied in the live session.\n",
        "- Nevertheless, in case you are curious, feel free to play around with different settings.\n",
        "\n",
        "<br>\n",
        "\n",
        "> **Where am I asked to code myself?** <br>\n",
        "Coding sections are marked as follows and consist of two parts:\n",
        "\n",
        "<br>\n",
        "\n",
        ">> ================================== <font color='green'>**TASK XY -- START**</font> ==================================\n",
        "\n",
        "<br>\n",
        "\n",
        ">>> **Part 1**: Text cell, includes:\n",
        "- statement of research question(s)\n",
        "- instructions for what to do.\n",
        "\n",
        "<br>\n",
        "\n",
        ">>> **Part 2**: Code cell, includes:\n",
        "- spaceholders `____` for where to insert the code\n",
        "- additional explanations/instructions\n",
        "\n",
        "\n",
        ">> ================================== <font color='green'>**TASK XY -- END**</font> ==================================\n",
        "\n",
        "\n",
        "<br>\n",
        "<br>\n",
        "\n",
        "\n",
        "<font size=5 color='red'>**IMPORTANT!**</font> <br>\n",
        "If you have any questions, doubts, criticism, suggestions, etc., please feel free to reach out at: `maximilian.goebel[at]unibocconi.it`.\n",
        "\n",
        "\n",
        "\n",
        "\n"
      ],
      "metadata": {
        "id": "eOnhvj4SS-cD"
      }
    },
    {
      "cell_type": "markdown",
      "source": [
        "<br>\n",
        "<br>\n",
        "\n",
        "## <font size=\"6.5\"> &emsp; &emsp; **1. &emsp; Warm Up**</font>"
      ],
      "metadata": {
        "id": "diX4wHzUeKBP"
      }
    },
    {
      "cell_type": "code",
      "execution_count": null,
      "metadata": {
        "id": "XhRD4zVfirEz"
      },
      "outputs": [],
      "source": [
        "# --- Install PyMC\n",
        "!pip install -q pymc==4.0.0\n",
        "\n",
        "%env MKL_THREADING_LAYER=GNU\n",
        "import pymc as pm"
      ]
    },
    {
      "cell_type": "code",
      "execution_count": null,
      "metadata": {
        "id": "H2chWjBQiisY"
      },
      "outputs": [],
      "source": [
        "# --- The usual packages\n",
        "import numpy as np\n",
        "import pandas as pd\n",
        "import matplotlib.pyplot as plt\n",
        "from tqdm import tqdm\n",
        "import datetime\n",
        "\n",
        "# --- For plotting the PyMC output\n",
        "import arviz as az\n",
        "\n",
        "\n",
        "# --- Evaluation Metrics\n",
        "from sklearn.metrics import roc_auc_score\n",
        "\n",
        "\n",
        "# --- Own functions ---> for how to upload them from GitHub thanks to: https://changhsinlee.com/colab-import-python/\n",
        "import requests\n",
        "r = requests.get('https://raw.githubusercontent.com/maxi-tb22/SFM/main/00_code/auxiliaries_SFM.py')\n",
        "\n",
        "# --- --- make sure your filename is the same as how you want to import\n",
        "with open('auxiliaries_SFM.py', 'w') as f:\n",
        "    f.write(r.text)\n",
        "\n",
        "from auxiliaries_SFM import *\n",
        "\n",
        "\n",
        "\n",
        "# --- Initialize random number generator\n",
        "RANDOM_SEED = 8927\n",
        "np.random.seed(RANDOM_SEED)"
      ]
    },
    {
      "cell_type": "markdown",
      "source": [
        "<br>\n",
        "\n",
        "## 1.1 &emsp; Data Inspection\n",
        "\n",
        "<br>"
      ],
      "metadata": {
        "id": "Lmef5wjBc7dq"
      }
    },
    {
      "cell_type": "markdown",
      "source": [
        "Which players can we choose from?"
      ],
      "metadata": {
        "id": "axsw061SfNbJ"
      }
    },
    {
      "cell_type": "code",
      "execution_count": null,
      "metadata": {
        "colab": {
          "base_uri": "https://localhost:8080/",
          "height": 204
        },
        "id": "usNKaXKSjjex",
        "outputId": "38637deb-ac87-489c-fbc0-1d49a38df5de"
      },
      "outputs": [
        {
          "output_type": "execute_result",
          "data": {
            "text/plain": [
              "    nateam  birth_date birth_country_isoCode birth_country  \\\n",
              "0   russia  1969-01-23                    ru        russia   \n",
              "1  england  1965-06-30                gb-eng       england   \n",
              "2  england  1960-12-31                gb-eng       england   \n",
              "3    wales  1963-11-01                gb-wls         wales   \n",
              "4  england  1964-04-04                gb-eng       england   \n",
              "\n",
              "          player_name  player_id normal_position  \n",
              "0  andrei kanchelskis        324               m  \n",
              "1      gary pallister        320               d  \n",
              "2         steve bruce        319               d  \n",
              "3         mark hughes        339               f  \n",
              "4         paul parker        317               d  "
            ],
            "text/html": [
              "\n",
              "  <div id=\"df-fd49e7af-b2f8-4cea-bf46-927d67288ca1\">\n",
              "    <div class=\"colab-df-container\">\n",
              "      <div>\n",
              "<style scoped>\n",
              "    .dataframe tbody tr th:only-of-type {\n",
              "        vertical-align: middle;\n",
              "    }\n",
              "\n",
              "    .dataframe tbody tr th {\n",
              "        vertical-align: top;\n",
              "    }\n",
              "\n",
              "    .dataframe thead th {\n",
              "        text-align: right;\n",
              "    }\n",
              "</style>\n",
              "<table border=\"1\" class=\"dataframe\">\n",
              "  <thead>\n",
              "    <tr style=\"text-align: right;\">\n",
              "      <th></th>\n",
              "      <th>nateam</th>\n",
              "      <th>birth_date</th>\n",
              "      <th>birth_country_isoCode</th>\n",
              "      <th>birth_country</th>\n",
              "      <th>player_name</th>\n",
              "      <th>player_id</th>\n",
              "      <th>normal_position</th>\n",
              "    </tr>\n",
              "  </thead>\n",
              "  <tbody>\n",
              "    <tr>\n",
              "      <th>0</th>\n",
              "      <td>russia</td>\n",
              "      <td>1969-01-23</td>\n",
              "      <td>ru</td>\n",
              "      <td>russia</td>\n",
              "      <td>andrei kanchelskis</td>\n",
              "      <td>324</td>\n",
              "      <td>m</td>\n",
              "    </tr>\n",
              "    <tr>\n",
              "      <th>1</th>\n",
              "      <td>england</td>\n",
              "      <td>1965-06-30</td>\n",
              "      <td>gb-eng</td>\n",
              "      <td>england</td>\n",
              "      <td>gary pallister</td>\n",
              "      <td>320</td>\n",
              "      <td>d</td>\n",
              "    </tr>\n",
              "    <tr>\n",
              "      <th>2</th>\n",
              "      <td>england</td>\n",
              "      <td>1960-12-31</td>\n",
              "      <td>gb-eng</td>\n",
              "      <td>england</td>\n",
              "      <td>steve bruce</td>\n",
              "      <td>319</td>\n",
              "      <td>d</td>\n",
              "    </tr>\n",
              "    <tr>\n",
              "      <th>3</th>\n",
              "      <td>wales</td>\n",
              "      <td>1963-11-01</td>\n",
              "      <td>gb-wls</td>\n",
              "      <td>wales</td>\n",
              "      <td>mark hughes</td>\n",
              "      <td>339</td>\n",
              "      <td>f</td>\n",
              "    </tr>\n",
              "    <tr>\n",
              "      <th>4</th>\n",
              "      <td>england</td>\n",
              "      <td>1964-04-04</td>\n",
              "      <td>gb-eng</td>\n",
              "      <td>england</td>\n",
              "      <td>paul parker</td>\n",
              "      <td>317</td>\n",
              "      <td>d</td>\n",
              "    </tr>\n",
              "  </tbody>\n",
              "</table>\n",
              "</div>\n",
              "      <button class=\"colab-df-convert\" onclick=\"convertToInteractive('df-fd49e7af-b2f8-4cea-bf46-927d67288ca1')\"\n",
              "              title=\"Convert this dataframe to an interactive table.\"\n",
              "              style=\"display:none;\">\n",
              "        \n",
              "  <svg xmlns=\"http://www.w3.org/2000/svg\" height=\"24px\"viewBox=\"0 0 24 24\"\n",
              "       width=\"24px\">\n",
              "    <path d=\"M0 0h24v24H0V0z\" fill=\"none\"/>\n",
              "    <path d=\"M18.56 5.44l.94 2.06.94-2.06 2.06-.94-2.06-.94-.94-2.06-.94 2.06-2.06.94zm-11 1L8.5 8.5l.94-2.06 2.06-.94-2.06-.94L8.5 2.5l-.94 2.06-2.06.94zm10 10l.94 2.06.94-2.06 2.06-.94-2.06-.94-.94-2.06-.94 2.06-2.06.94z\"/><path d=\"M17.41 7.96l-1.37-1.37c-.4-.4-.92-.59-1.43-.59-.52 0-1.04.2-1.43.59L10.3 9.45l-7.72 7.72c-.78.78-.78 2.05 0 2.83L4 21.41c.39.39.9.59 1.41.59.51 0 1.02-.2 1.41-.59l7.78-7.78 2.81-2.81c.8-.78.8-2.07 0-2.86zM5.41 20L4 18.59l7.72-7.72 1.47 1.35L5.41 20z\"/>\n",
              "  </svg>\n",
              "      </button>\n",
              "      \n",
              "  <style>\n",
              "    .colab-df-container {\n",
              "      display:flex;\n",
              "      flex-wrap:wrap;\n",
              "      gap: 12px;\n",
              "    }\n",
              "\n",
              "    .colab-df-convert {\n",
              "      background-color: #E8F0FE;\n",
              "      border: none;\n",
              "      border-radius: 50%;\n",
              "      cursor: pointer;\n",
              "      display: none;\n",
              "      fill: #1967D2;\n",
              "      height: 32px;\n",
              "      padding: 0 0 0 0;\n",
              "      width: 32px;\n",
              "    }\n",
              "\n",
              "    .colab-df-convert:hover {\n",
              "      background-color: #E2EBFA;\n",
              "      box-shadow: 0px 1px 2px rgba(60, 64, 67, 0.3), 0px 1px 3px 1px rgba(60, 64, 67, 0.15);\n",
              "      fill: #174EA6;\n",
              "    }\n",
              "\n",
              "    [theme=dark] .colab-df-convert {\n",
              "      background-color: #3B4455;\n",
              "      fill: #D2E3FC;\n",
              "    }\n",
              "\n",
              "    [theme=dark] .colab-df-convert:hover {\n",
              "      background-color: #434B5C;\n",
              "      box-shadow: 0px 1px 3px 1px rgba(0, 0, 0, 0.15);\n",
              "      filter: drop-shadow(0px 1px 2px rgba(0, 0, 0, 0.3));\n",
              "      fill: #FFFFFF;\n",
              "    }\n",
              "  </style>\n",
              "\n",
              "      <script>\n",
              "        const buttonEl =\n",
              "          document.querySelector('#df-fd49e7af-b2f8-4cea-bf46-927d67288ca1 button.colab-df-convert');\n",
              "        buttonEl.style.display =\n",
              "          google.colab.kernel.accessAllowed ? 'block' : 'none';\n",
              "\n",
              "        async function convertToInteractive(key) {\n",
              "          const element = document.querySelector('#df-fd49e7af-b2f8-4cea-bf46-927d67288ca1');\n",
              "          const dataTable =\n",
              "            await google.colab.kernel.invokeFunction('convertToInteractive',\n",
              "                                                     [key], {});\n",
              "          if (!dataTable) return;\n",
              "\n",
              "          const docLinkHtml = 'Like what you see? Visit the ' +\n",
              "            '<a target=\"_blank\" href=https://colab.research.google.com/notebooks/data_table.ipynb>data table notebook</a>'\n",
              "            + ' to learn more about interactive tables.';\n",
              "          element.innerHTML = '';\n",
              "          dataTable['output_type'] = 'display_data';\n",
              "          await google.colab.output.renderOutput(dataTable, element);\n",
              "          const docLink = document.createElement('div');\n",
              "          docLink.innerHTML = docLinkHtml;\n",
              "          element.appendChild(docLink);\n",
              "        }\n",
              "      </script>\n",
              "    </div>\n",
              "  </div>\n",
              "  "
            ]
          },
          "metadata": {},
          "execution_count": 2
        }
      ],
      "source": [
        "# ================================ Import Players ================================ #\n",
        "\n",
        "players_info = pd.read_csv(create_url('https://drive.google.com/file/d/1199-wN3lIqLhHMaOtdBK7_4vR36tdpGB/view?usp=sharing'))\n",
        "players_info.head()"
      ]
    },
    {
      "cell_type": "markdown",
      "source": [
        "<br>\n",
        "\n",
        "... and which data can we work with?"
      ],
      "metadata": {
        "id": "vDG1eyG8l8FE"
      }
    },
    {
      "cell_type": "code",
      "source": [
        "# --- Import the different Data Sets:\n",
        "\n",
        "lineup = pd.read_csv(create_url('https://drive.google.com/file/d/1WU8yq9m2MewdDf6bAY7YvdgqFHmghZdm/view?usp=sharing'))\n",
        "\n",
        "events = pd.read_csv(create_url('https://drive.google.com/file/d/1HQk83DNL8MnGxVTpNUV7-I9SQco19bpf/view?usp=sharing'))\n",
        "\n",
        "games = pd.read_csv(create_url('https://drive.google.com/file/d/1njZWKNAo21H8DIYnagxGgjyMUSlb81k9/view?usp=sharing'))"
      ],
      "metadata": {
        "id": "-ikvclK9l9GZ"
      },
      "execution_count": null,
      "outputs": []
    },
    {
      "cell_type": "code",
      "source": [
        "lineup.head()"
      ],
      "metadata": {
        "colab": {
          "base_uri": "https://localhost:8080/",
          "height": 204
        },
        "id": "i4QIgaxsmH5r",
        "outputId": "41c2b51c-fc00-4d85-bc81-5114b73d2fe2"
      },
      "execution_count": null,
      "outputs": [
        {
          "output_type": "execute_result",
          "data": {
            "text/plain": [
              "  info_loan  substitute  match_id  team_id  captain full_position  \\\n",
              "0       NaN           0       147       12    False    midfielder   \n",
              "1       NaN           0       147       12    False      defender   \n",
              "2       NaN           0       147       12    False      defender   \n",
              "3       NaN           0       147       12    False       forward   \n",
              "4       NaN           0       147       12    False      defender   \n",
              "\n",
              "   player_number        age match_position         player_name  player_id  \n",
              "0            NaN  23.772220              m  andrei kanchelskis        324  \n",
              "1            NaN  23.772220              d      gary pallister        320  \n",
              "2            NaN  27.339713              d         steve bruce        319  \n",
              "3            NaN  27.339713              f         mark hughes        339  \n",
              "4            NaN  31.835356              d         paul parker        317  "
            ],
            "text/html": [
              "\n",
              "  <div id=\"df-cf420998-5b80-41be-a834-ee5508374821\">\n",
              "    <div class=\"colab-df-container\">\n",
              "      <div>\n",
              "<style scoped>\n",
              "    .dataframe tbody tr th:only-of-type {\n",
              "        vertical-align: middle;\n",
              "    }\n",
              "\n",
              "    .dataframe tbody tr th {\n",
              "        vertical-align: top;\n",
              "    }\n",
              "\n",
              "    .dataframe thead th {\n",
              "        text-align: right;\n",
              "    }\n",
              "</style>\n",
              "<table border=\"1\" class=\"dataframe\">\n",
              "  <thead>\n",
              "    <tr style=\"text-align: right;\">\n",
              "      <th></th>\n",
              "      <th>info_loan</th>\n",
              "      <th>substitute</th>\n",
              "      <th>match_id</th>\n",
              "      <th>team_id</th>\n",
              "      <th>captain</th>\n",
              "      <th>full_position</th>\n",
              "      <th>player_number</th>\n",
              "      <th>age</th>\n",
              "      <th>match_position</th>\n",
              "      <th>player_name</th>\n",
              "      <th>player_id</th>\n",
              "    </tr>\n",
              "  </thead>\n",
              "  <tbody>\n",
              "    <tr>\n",
              "      <th>0</th>\n",
              "      <td>NaN</td>\n",
              "      <td>0</td>\n",
              "      <td>147</td>\n",
              "      <td>12</td>\n",
              "      <td>False</td>\n",
              "      <td>midfielder</td>\n",
              "      <td>NaN</td>\n",
              "      <td>23.772220</td>\n",
              "      <td>m</td>\n",
              "      <td>andrei kanchelskis</td>\n",
              "      <td>324</td>\n",
              "    </tr>\n",
              "    <tr>\n",
              "      <th>1</th>\n",
              "      <td>NaN</td>\n",
              "      <td>0</td>\n",
              "      <td>147</td>\n",
              "      <td>12</td>\n",
              "      <td>False</td>\n",
              "      <td>defender</td>\n",
              "      <td>NaN</td>\n",
              "      <td>23.772220</td>\n",
              "      <td>d</td>\n",
              "      <td>gary pallister</td>\n",
              "      <td>320</td>\n",
              "    </tr>\n",
              "    <tr>\n",
              "      <th>2</th>\n",
              "      <td>NaN</td>\n",
              "      <td>0</td>\n",
              "      <td>147</td>\n",
              "      <td>12</td>\n",
              "      <td>False</td>\n",
              "      <td>defender</td>\n",
              "      <td>NaN</td>\n",
              "      <td>27.339713</td>\n",
              "      <td>d</td>\n",
              "      <td>steve bruce</td>\n",
              "      <td>319</td>\n",
              "    </tr>\n",
              "    <tr>\n",
              "      <th>3</th>\n",
              "      <td>NaN</td>\n",
              "      <td>0</td>\n",
              "      <td>147</td>\n",
              "      <td>12</td>\n",
              "      <td>False</td>\n",
              "      <td>forward</td>\n",
              "      <td>NaN</td>\n",
              "      <td>27.339713</td>\n",
              "      <td>f</td>\n",
              "      <td>mark hughes</td>\n",
              "      <td>339</td>\n",
              "    </tr>\n",
              "    <tr>\n",
              "      <th>4</th>\n",
              "      <td>NaN</td>\n",
              "      <td>0</td>\n",
              "      <td>147</td>\n",
              "      <td>12</td>\n",
              "      <td>False</td>\n",
              "      <td>defender</td>\n",
              "      <td>NaN</td>\n",
              "      <td>31.835356</td>\n",
              "      <td>d</td>\n",
              "      <td>paul parker</td>\n",
              "      <td>317</td>\n",
              "    </tr>\n",
              "  </tbody>\n",
              "</table>\n",
              "</div>\n",
              "      <button class=\"colab-df-convert\" onclick=\"convertToInteractive('df-cf420998-5b80-41be-a834-ee5508374821')\"\n",
              "              title=\"Convert this dataframe to an interactive table.\"\n",
              "              style=\"display:none;\">\n",
              "        \n",
              "  <svg xmlns=\"http://www.w3.org/2000/svg\" height=\"24px\"viewBox=\"0 0 24 24\"\n",
              "       width=\"24px\">\n",
              "    <path d=\"M0 0h24v24H0V0z\" fill=\"none\"/>\n",
              "    <path d=\"M18.56 5.44l.94 2.06.94-2.06 2.06-.94-2.06-.94-.94-2.06-.94 2.06-2.06.94zm-11 1L8.5 8.5l.94-2.06 2.06-.94-2.06-.94L8.5 2.5l-.94 2.06-2.06.94zm10 10l.94 2.06.94-2.06 2.06-.94-2.06-.94-.94-2.06-.94 2.06-2.06.94z\"/><path d=\"M17.41 7.96l-1.37-1.37c-.4-.4-.92-.59-1.43-.59-.52 0-1.04.2-1.43.59L10.3 9.45l-7.72 7.72c-.78.78-.78 2.05 0 2.83L4 21.41c.39.39.9.59 1.41.59.51 0 1.02-.2 1.41-.59l7.78-7.78 2.81-2.81c.8-.78.8-2.07 0-2.86zM5.41 20L4 18.59l7.72-7.72 1.47 1.35L5.41 20z\"/>\n",
              "  </svg>\n",
              "      </button>\n",
              "      \n",
              "  <style>\n",
              "    .colab-df-container {\n",
              "      display:flex;\n",
              "      flex-wrap:wrap;\n",
              "      gap: 12px;\n",
              "    }\n",
              "\n",
              "    .colab-df-convert {\n",
              "      background-color: #E8F0FE;\n",
              "      border: none;\n",
              "      border-radius: 50%;\n",
              "      cursor: pointer;\n",
              "      display: none;\n",
              "      fill: #1967D2;\n",
              "      height: 32px;\n",
              "      padding: 0 0 0 0;\n",
              "      width: 32px;\n",
              "    }\n",
              "\n",
              "    .colab-df-convert:hover {\n",
              "      background-color: #E2EBFA;\n",
              "      box-shadow: 0px 1px 2px rgba(60, 64, 67, 0.3), 0px 1px 3px 1px rgba(60, 64, 67, 0.15);\n",
              "      fill: #174EA6;\n",
              "    }\n",
              "\n",
              "    [theme=dark] .colab-df-convert {\n",
              "      background-color: #3B4455;\n",
              "      fill: #D2E3FC;\n",
              "    }\n",
              "\n",
              "    [theme=dark] .colab-df-convert:hover {\n",
              "      background-color: #434B5C;\n",
              "      box-shadow: 0px 1px 3px 1px rgba(0, 0, 0, 0.15);\n",
              "      filter: drop-shadow(0px 1px 2px rgba(0, 0, 0, 0.3));\n",
              "      fill: #FFFFFF;\n",
              "    }\n",
              "  </style>\n",
              "\n",
              "      <script>\n",
              "        const buttonEl =\n",
              "          document.querySelector('#df-cf420998-5b80-41be-a834-ee5508374821 button.colab-df-convert');\n",
              "        buttonEl.style.display =\n",
              "          google.colab.kernel.accessAllowed ? 'block' : 'none';\n",
              "\n",
              "        async function convertToInteractive(key) {\n",
              "          const element = document.querySelector('#df-cf420998-5b80-41be-a834-ee5508374821');\n",
              "          const dataTable =\n",
              "            await google.colab.kernel.invokeFunction('convertToInteractive',\n",
              "                                                     [key], {});\n",
              "          if (!dataTable) return;\n",
              "\n",
              "          const docLinkHtml = 'Like what you see? Visit the ' +\n",
              "            '<a target=\"_blank\" href=https://colab.research.google.com/notebooks/data_table.ipynb>data table notebook</a>'\n",
              "            + ' to learn more about interactive tables.';\n",
              "          element.innerHTML = '';\n",
              "          dataTable['output_type'] = 'display_data';\n",
              "          await google.colab.output.renderOutput(dataTable, element);\n",
              "          const docLink = document.createElement('div');\n",
              "          docLink.innerHTML = docLinkHtml;\n",
              "          element.appendChild(docLink);\n",
              "        }\n",
              "      </script>\n",
              "    </div>\n",
              "  </div>\n",
              "  "
            ]
          },
          "metadata": {},
          "execution_count": 6
        }
      ]
    },
    {
      "cell_type": "code",
      "source": [
        "events.head()"
      ],
      "metadata": {
        "colab": {
          "base_uri": "https://localhost:8080/",
          "height": 204
        },
        "id": "S1E7O23dmL8-",
        "outputId": "a564e66e-0626-49b8-c064-18d23d685188"
      },
      "execution_count": null,
      "outputs": [
        {
          "output_type": "execute_result",
          "data": {
            "text/plain": [
              "   clock_label  phase          type  home_team_score  away_team_score  \\\n",
              "0            0      1    play_start                0                0   \n",
              "1           45      1      play_end                0                0   \n",
              "2           45      2    play_start                0                0   \n",
              "3           67      2  substitution                0                0   \n",
              "4           67      2  substitution                0                0   \n",
              "\n",
              "   player_id  team_id description  assist_id  match_id  add_time  \n",
              "0        NaN      NaN         NaN        NaN       147         0  \n",
              "1        NaN      NaN         NaN        NaN       147         0  \n",
              "2        NaN      NaN         NaN        NaN       147         0  \n",
              "3      322.0     12.0      sub_on        NaN       147         0  \n",
              "4      324.0     12.0     sub_off        NaN       147         0  "
            ],
            "text/html": [
              "\n",
              "  <div id=\"df-767bc380-6253-44a3-a1f5-7f9e6921a2a4\">\n",
              "    <div class=\"colab-df-container\">\n",
              "      <div>\n",
              "<style scoped>\n",
              "    .dataframe tbody tr th:only-of-type {\n",
              "        vertical-align: middle;\n",
              "    }\n",
              "\n",
              "    .dataframe tbody tr th {\n",
              "        vertical-align: top;\n",
              "    }\n",
              "\n",
              "    .dataframe thead th {\n",
              "        text-align: right;\n",
              "    }\n",
              "</style>\n",
              "<table border=\"1\" class=\"dataframe\">\n",
              "  <thead>\n",
              "    <tr style=\"text-align: right;\">\n",
              "      <th></th>\n",
              "      <th>clock_label</th>\n",
              "      <th>phase</th>\n",
              "      <th>type</th>\n",
              "      <th>home_team_score</th>\n",
              "      <th>away_team_score</th>\n",
              "      <th>player_id</th>\n",
              "      <th>team_id</th>\n",
              "      <th>description</th>\n",
              "      <th>assist_id</th>\n",
              "      <th>match_id</th>\n",
              "      <th>add_time</th>\n",
              "    </tr>\n",
              "  </thead>\n",
              "  <tbody>\n",
              "    <tr>\n",
              "      <th>0</th>\n",
              "      <td>0</td>\n",
              "      <td>1</td>\n",
              "      <td>play_start</td>\n",
              "      <td>0</td>\n",
              "      <td>0</td>\n",
              "      <td>NaN</td>\n",
              "      <td>NaN</td>\n",
              "      <td>NaN</td>\n",
              "      <td>NaN</td>\n",
              "      <td>147</td>\n",
              "      <td>0</td>\n",
              "    </tr>\n",
              "    <tr>\n",
              "      <th>1</th>\n",
              "      <td>45</td>\n",
              "      <td>1</td>\n",
              "      <td>play_end</td>\n",
              "      <td>0</td>\n",
              "      <td>0</td>\n",
              "      <td>NaN</td>\n",
              "      <td>NaN</td>\n",
              "      <td>NaN</td>\n",
              "      <td>NaN</td>\n",
              "      <td>147</td>\n",
              "      <td>0</td>\n",
              "    </tr>\n",
              "    <tr>\n",
              "      <th>2</th>\n",
              "      <td>45</td>\n",
              "      <td>2</td>\n",
              "      <td>play_start</td>\n",
              "      <td>0</td>\n",
              "      <td>0</td>\n",
              "      <td>NaN</td>\n",
              "      <td>NaN</td>\n",
              "      <td>NaN</td>\n",
              "      <td>NaN</td>\n",
              "      <td>147</td>\n",
              "      <td>0</td>\n",
              "    </tr>\n",
              "    <tr>\n",
              "      <th>3</th>\n",
              "      <td>67</td>\n",
              "      <td>2</td>\n",
              "      <td>substitution</td>\n",
              "      <td>0</td>\n",
              "      <td>0</td>\n",
              "      <td>322.0</td>\n",
              "      <td>12.0</td>\n",
              "      <td>sub_on</td>\n",
              "      <td>NaN</td>\n",
              "      <td>147</td>\n",
              "      <td>0</td>\n",
              "    </tr>\n",
              "    <tr>\n",
              "      <th>4</th>\n",
              "      <td>67</td>\n",
              "      <td>2</td>\n",
              "      <td>substitution</td>\n",
              "      <td>0</td>\n",
              "      <td>0</td>\n",
              "      <td>324.0</td>\n",
              "      <td>12.0</td>\n",
              "      <td>sub_off</td>\n",
              "      <td>NaN</td>\n",
              "      <td>147</td>\n",
              "      <td>0</td>\n",
              "    </tr>\n",
              "  </tbody>\n",
              "</table>\n",
              "</div>\n",
              "      <button class=\"colab-df-convert\" onclick=\"convertToInteractive('df-767bc380-6253-44a3-a1f5-7f9e6921a2a4')\"\n",
              "              title=\"Convert this dataframe to an interactive table.\"\n",
              "              style=\"display:none;\">\n",
              "        \n",
              "  <svg xmlns=\"http://www.w3.org/2000/svg\" height=\"24px\"viewBox=\"0 0 24 24\"\n",
              "       width=\"24px\">\n",
              "    <path d=\"M0 0h24v24H0V0z\" fill=\"none\"/>\n",
              "    <path d=\"M18.56 5.44l.94 2.06.94-2.06 2.06-.94-2.06-.94-.94-2.06-.94 2.06-2.06.94zm-11 1L8.5 8.5l.94-2.06 2.06-.94-2.06-.94L8.5 2.5l-.94 2.06-2.06.94zm10 10l.94 2.06.94-2.06 2.06-.94-2.06-.94-.94-2.06-.94 2.06-2.06.94z\"/><path d=\"M17.41 7.96l-1.37-1.37c-.4-.4-.92-.59-1.43-.59-.52 0-1.04.2-1.43.59L10.3 9.45l-7.72 7.72c-.78.78-.78 2.05 0 2.83L4 21.41c.39.39.9.59 1.41.59.51 0 1.02-.2 1.41-.59l7.78-7.78 2.81-2.81c.8-.78.8-2.07 0-2.86zM5.41 20L4 18.59l7.72-7.72 1.47 1.35L5.41 20z\"/>\n",
              "  </svg>\n",
              "      </button>\n",
              "      \n",
              "  <style>\n",
              "    .colab-df-container {\n",
              "      display:flex;\n",
              "      flex-wrap:wrap;\n",
              "      gap: 12px;\n",
              "    }\n",
              "\n",
              "    .colab-df-convert {\n",
              "      background-color: #E8F0FE;\n",
              "      border: none;\n",
              "      border-radius: 50%;\n",
              "      cursor: pointer;\n",
              "      display: none;\n",
              "      fill: #1967D2;\n",
              "      height: 32px;\n",
              "      padding: 0 0 0 0;\n",
              "      width: 32px;\n",
              "    }\n",
              "\n",
              "    .colab-df-convert:hover {\n",
              "      background-color: #E2EBFA;\n",
              "      box-shadow: 0px 1px 2px rgba(60, 64, 67, 0.3), 0px 1px 3px 1px rgba(60, 64, 67, 0.15);\n",
              "      fill: #174EA6;\n",
              "    }\n",
              "\n",
              "    [theme=dark] .colab-df-convert {\n",
              "      background-color: #3B4455;\n",
              "      fill: #D2E3FC;\n",
              "    }\n",
              "\n",
              "    [theme=dark] .colab-df-convert:hover {\n",
              "      background-color: #434B5C;\n",
              "      box-shadow: 0px 1px 3px 1px rgba(0, 0, 0, 0.15);\n",
              "      filter: drop-shadow(0px 1px 2px rgba(0, 0, 0, 0.3));\n",
              "      fill: #FFFFFF;\n",
              "    }\n",
              "  </style>\n",
              "\n",
              "      <script>\n",
              "        const buttonEl =\n",
              "          document.querySelector('#df-767bc380-6253-44a3-a1f5-7f9e6921a2a4 button.colab-df-convert');\n",
              "        buttonEl.style.display =\n",
              "          google.colab.kernel.accessAllowed ? 'block' : 'none';\n",
              "\n",
              "        async function convertToInteractive(key) {\n",
              "          const element = document.querySelector('#df-767bc380-6253-44a3-a1f5-7f9e6921a2a4');\n",
              "          const dataTable =\n",
              "            await google.colab.kernel.invokeFunction('convertToInteractive',\n",
              "                                                     [key], {});\n",
              "          if (!dataTable) return;\n",
              "\n",
              "          const docLinkHtml = 'Like what you see? Visit the ' +\n",
              "            '<a target=\"_blank\" href=https://colab.research.google.com/notebooks/data_table.ipynb>data table notebook</a>'\n",
              "            + ' to learn more about interactive tables.';\n",
              "          element.innerHTML = '';\n",
              "          dataTable['output_type'] = 'display_data';\n",
              "          await google.colab.output.renderOutput(dataTable, element);\n",
              "          const docLink = document.createElement('div');\n",
              "          docLink.innerHTML = docLinkHtml;\n",
              "          element.appendChild(docLink);\n",
              "        }\n",
              "      </script>\n",
              "    </div>\n",
              "  </div>\n",
              "  "
            ]
          },
          "metadata": {},
          "execution_count": 7
        }
      ]
    },
    {
      "cell_type": "code",
      "source": [
        "games.head()"
      ],
      "metadata": {
        "colab": {
          "base_uri": "https://localhost:8080/",
          "height": 399
        },
        "id": "uSqFzUMEmMfQ",
        "outputId": "3af28b07-5230-4888-d299-15a6ac1b6bba"
      },
      "execution_count": null,
      "outputs": [
        {
          "output_type": "execute_result",
          "data": {
            "text/plain": [
              "    season  season_id           kickoff_dt            home_team  \\\n",
              "0  1992/93          1  1992-10-31 15:00:00    manchester united   \n",
              "1  1992/93          1  1992-10-24 15:00:00     blackburn rovers   \n",
              "2  1992/93          1  1992-09-13 16:00:00         leeds united   \n",
              "3  1992/93          1  1993-02-06 15:00:00  queens park rangers   \n",
              "4  1992/93          1  1992-08-19 19:30:00      oldham athletic   \n",
              "\n",
              "  home_team_abbr  home_team_id  home_score          away_team away_team_abbr  \\\n",
              "0            mun            12           0          wimbledon            wim   \n",
              "1            blb             3           0  manchester united            mun   \n",
              "2            lee             9           1        aston villa            avl   \n",
              "3            qpr            17           1    manchester city            mci   \n",
              "4            old            16           1     crystal palace            cry   \n",
              "\n",
              "   away_team_id  ...  outcome attendance game_length_secs clock_label  \\\n",
              "0            22  ...        a    32622.0             5400       90'00   \n",
              "1            12  ...        d    20305.0             5400       90'00   \n",
              "2             2  ...        d    27817.0             5400       90'00   \n",
              "3            11  ...        d    13003.0             5400       90'00   \n",
              "4             6  ...        d    11063.0             5400       90'00   \n",
              "\n",
              "   home_htscore  away_htscore match_id  closed_doors        referee  ref_count  \n",
              "0             0             0      147             0  kelvin morton         62  \n",
              "1             0             0      134             0      mike reed        167  \n",
              "2             0             1       85             0    joe worrall         58  \n",
              "3             0             0      289             0      mike reed        167  \n",
              "4             1             0       19             0      mike peck         13  \n",
              "\n",
              "[5 rows x 23 columns]"
            ],
            "text/html": [
              "\n",
              "  <div id=\"df-e158a7cf-7987-4e98-9bd0-216ee3ee4dd8\">\n",
              "    <div class=\"colab-df-container\">\n",
              "      <div>\n",
              "<style scoped>\n",
              "    .dataframe tbody tr th:only-of-type {\n",
              "        vertical-align: middle;\n",
              "    }\n",
              "\n",
              "    .dataframe tbody tr th {\n",
              "        vertical-align: top;\n",
              "    }\n",
              "\n",
              "    .dataframe thead th {\n",
              "        text-align: right;\n",
              "    }\n",
              "</style>\n",
              "<table border=\"1\" class=\"dataframe\">\n",
              "  <thead>\n",
              "    <tr style=\"text-align: right;\">\n",
              "      <th></th>\n",
              "      <th>season</th>\n",
              "      <th>season_id</th>\n",
              "      <th>kickoff_dt</th>\n",
              "      <th>home_team</th>\n",
              "      <th>home_team_abbr</th>\n",
              "      <th>home_team_id</th>\n",
              "      <th>home_score</th>\n",
              "      <th>away_team</th>\n",
              "      <th>away_team_abbr</th>\n",
              "      <th>away_team_id</th>\n",
              "      <th>...</th>\n",
              "      <th>outcome</th>\n",
              "      <th>attendance</th>\n",
              "      <th>game_length_secs</th>\n",
              "      <th>clock_label</th>\n",
              "      <th>home_htscore</th>\n",
              "      <th>away_htscore</th>\n",
              "      <th>match_id</th>\n",
              "      <th>closed_doors</th>\n",
              "      <th>referee</th>\n",
              "      <th>ref_count</th>\n",
              "    </tr>\n",
              "  </thead>\n",
              "  <tbody>\n",
              "    <tr>\n",
              "      <th>0</th>\n",
              "      <td>1992/93</td>\n",
              "      <td>1</td>\n",
              "      <td>1992-10-31 15:00:00</td>\n",
              "      <td>manchester united</td>\n",
              "      <td>mun</td>\n",
              "      <td>12</td>\n",
              "      <td>0</td>\n",
              "      <td>wimbledon</td>\n",
              "      <td>wim</td>\n",
              "      <td>22</td>\n",
              "      <td>...</td>\n",
              "      <td>a</td>\n",
              "      <td>32622.0</td>\n",
              "      <td>5400</td>\n",
              "      <td>90'00</td>\n",
              "      <td>0</td>\n",
              "      <td>0</td>\n",
              "      <td>147</td>\n",
              "      <td>0</td>\n",
              "      <td>kelvin morton</td>\n",
              "      <td>62</td>\n",
              "    </tr>\n",
              "    <tr>\n",
              "      <th>1</th>\n",
              "      <td>1992/93</td>\n",
              "      <td>1</td>\n",
              "      <td>1992-10-24 15:00:00</td>\n",
              "      <td>blackburn rovers</td>\n",
              "      <td>blb</td>\n",
              "      <td>3</td>\n",
              "      <td>0</td>\n",
              "      <td>manchester united</td>\n",
              "      <td>mun</td>\n",
              "      <td>12</td>\n",
              "      <td>...</td>\n",
              "      <td>d</td>\n",
              "      <td>20305.0</td>\n",
              "      <td>5400</td>\n",
              "      <td>90'00</td>\n",
              "      <td>0</td>\n",
              "      <td>0</td>\n",
              "      <td>134</td>\n",
              "      <td>0</td>\n",
              "      <td>mike reed</td>\n",
              "      <td>167</td>\n",
              "    </tr>\n",
              "    <tr>\n",
              "      <th>2</th>\n",
              "      <td>1992/93</td>\n",
              "      <td>1</td>\n",
              "      <td>1992-09-13 16:00:00</td>\n",
              "      <td>leeds united</td>\n",
              "      <td>lee</td>\n",
              "      <td>9</td>\n",
              "      <td>1</td>\n",
              "      <td>aston villa</td>\n",
              "      <td>avl</td>\n",
              "      <td>2</td>\n",
              "      <td>...</td>\n",
              "      <td>d</td>\n",
              "      <td>27817.0</td>\n",
              "      <td>5400</td>\n",
              "      <td>90'00</td>\n",
              "      <td>0</td>\n",
              "      <td>1</td>\n",
              "      <td>85</td>\n",
              "      <td>0</td>\n",
              "      <td>joe worrall</td>\n",
              "      <td>58</td>\n",
              "    </tr>\n",
              "    <tr>\n",
              "      <th>3</th>\n",
              "      <td>1992/93</td>\n",
              "      <td>1</td>\n",
              "      <td>1993-02-06 15:00:00</td>\n",
              "      <td>queens park rangers</td>\n",
              "      <td>qpr</td>\n",
              "      <td>17</td>\n",
              "      <td>1</td>\n",
              "      <td>manchester city</td>\n",
              "      <td>mci</td>\n",
              "      <td>11</td>\n",
              "      <td>...</td>\n",
              "      <td>d</td>\n",
              "      <td>13003.0</td>\n",
              "      <td>5400</td>\n",
              "      <td>90'00</td>\n",
              "      <td>0</td>\n",
              "      <td>0</td>\n",
              "      <td>289</td>\n",
              "      <td>0</td>\n",
              "      <td>mike reed</td>\n",
              "      <td>167</td>\n",
              "    </tr>\n",
              "    <tr>\n",
              "      <th>4</th>\n",
              "      <td>1992/93</td>\n",
              "      <td>1</td>\n",
              "      <td>1992-08-19 19:30:00</td>\n",
              "      <td>oldham athletic</td>\n",
              "      <td>old</td>\n",
              "      <td>16</td>\n",
              "      <td>1</td>\n",
              "      <td>crystal palace</td>\n",
              "      <td>cry</td>\n",
              "      <td>6</td>\n",
              "      <td>...</td>\n",
              "      <td>d</td>\n",
              "      <td>11063.0</td>\n",
              "      <td>5400</td>\n",
              "      <td>90'00</td>\n",
              "      <td>1</td>\n",
              "      <td>0</td>\n",
              "      <td>19</td>\n",
              "      <td>0</td>\n",
              "      <td>mike peck</td>\n",
              "      <td>13</td>\n",
              "    </tr>\n",
              "  </tbody>\n",
              "</table>\n",
              "<p>5 rows × 23 columns</p>\n",
              "</div>\n",
              "      <button class=\"colab-df-convert\" onclick=\"convertToInteractive('df-e158a7cf-7987-4e98-9bd0-216ee3ee4dd8')\"\n",
              "              title=\"Convert this dataframe to an interactive table.\"\n",
              "              style=\"display:none;\">\n",
              "        \n",
              "  <svg xmlns=\"http://www.w3.org/2000/svg\" height=\"24px\"viewBox=\"0 0 24 24\"\n",
              "       width=\"24px\">\n",
              "    <path d=\"M0 0h24v24H0V0z\" fill=\"none\"/>\n",
              "    <path d=\"M18.56 5.44l.94 2.06.94-2.06 2.06-.94-2.06-.94-.94-2.06-.94 2.06-2.06.94zm-11 1L8.5 8.5l.94-2.06 2.06-.94-2.06-.94L8.5 2.5l-.94 2.06-2.06.94zm10 10l.94 2.06.94-2.06 2.06-.94-2.06-.94-.94-2.06-.94 2.06-2.06.94z\"/><path d=\"M17.41 7.96l-1.37-1.37c-.4-.4-.92-.59-1.43-.59-.52 0-1.04.2-1.43.59L10.3 9.45l-7.72 7.72c-.78.78-.78 2.05 0 2.83L4 21.41c.39.39.9.59 1.41.59.51 0 1.02-.2 1.41-.59l7.78-7.78 2.81-2.81c.8-.78.8-2.07 0-2.86zM5.41 20L4 18.59l7.72-7.72 1.47 1.35L5.41 20z\"/>\n",
              "  </svg>\n",
              "      </button>\n",
              "      \n",
              "  <style>\n",
              "    .colab-df-container {\n",
              "      display:flex;\n",
              "      flex-wrap:wrap;\n",
              "      gap: 12px;\n",
              "    }\n",
              "\n",
              "    .colab-df-convert {\n",
              "      background-color: #E8F0FE;\n",
              "      border: none;\n",
              "      border-radius: 50%;\n",
              "      cursor: pointer;\n",
              "      display: none;\n",
              "      fill: #1967D2;\n",
              "      height: 32px;\n",
              "      padding: 0 0 0 0;\n",
              "      width: 32px;\n",
              "    }\n",
              "\n",
              "    .colab-df-convert:hover {\n",
              "      background-color: #E2EBFA;\n",
              "      box-shadow: 0px 1px 2px rgba(60, 64, 67, 0.3), 0px 1px 3px 1px rgba(60, 64, 67, 0.15);\n",
              "      fill: #174EA6;\n",
              "    }\n",
              "\n",
              "    [theme=dark] .colab-df-convert {\n",
              "      background-color: #3B4455;\n",
              "      fill: #D2E3FC;\n",
              "    }\n",
              "\n",
              "    [theme=dark] .colab-df-convert:hover {\n",
              "      background-color: #434B5C;\n",
              "      box-shadow: 0px 1px 3px 1px rgba(0, 0, 0, 0.15);\n",
              "      filter: drop-shadow(0px 1px 2px rgba(0, 0, 0, 0.3));\n",
              "      fill: #FFFFFF;\n",
              "    }\n",
              "  </style>\n",
              "\n",
              "      <script>\n",
              "        const buttonEl =\n",
              "          document.querySelector('#df-e158a7cf-7987-4e98-9bd0-216ee3ee4dd8 button.colab-df-convert');\n",
              "        buttonEl.style.display =\n",
              "          google.colab.kernel.accessAllowed ? 'block' : 'none';\n",
              "\n",
              "        async function convertToInteractive(key) {\n",
              "          const element = document.querySelector('#df-e158a7cf-7987-4e98-9bd0-216ee3ee4dd8');\n",
              "          const dataTable =\n",
              "            await google.colab.kernel.invokeFunction('convertToInteractive',\n",
              "                                                     [key], {});\n",
              "          if (!dataTable) return;\n",
              "\n",
              "          const docLinkHtml = 'Like what you see? Visit the ' +\n",
              "            '<a target=\"_blank\" href=https://colab.research.google.com/notebooks/data_table.ipynb>data table notebook</a>'\n",
              "            + ' to learn more about interactive tables.';\n",
              "          element.innerHTML = '';\n",
              "          dataTable['output_type'] = 'display_data';\n",
              "          await google.colab.output.renderOutput(dataTable, element);\n",
              "          const docLink = document.createElement('div');\n",
              "          docLink.innerHTML = docLinkHtml;\n",
              "          element.appendChild(docLink);\n",
              "        }\n",
              "      </script>\n",
              "    </div>\n",
              "  </div>\n",
              "  "
            ]
          },
          "metadata": {},
          "execution_count": 8
        }
      ]
    },
    {
      "cell_type": "markdown",
      "source": [
        "<br>\n",
        "\n",
        "Looks pretty decent!\n",
        "\n",
        "<br>\n",
        "\n",
        "Let's define our set of players that we are interested in. Feel free to change/append the list!"
      ],
      "metadata": {
        "id": "GlXqyCgddJZY"
      }
    },
    {
      "cell_type": "code",
      "execution_count": null,
      "metadata": {
        "id": "6oqL1JtBK5_w"
      },
      "outputs": [],
      "source": [
        "# ================================ USER INTERACTION ================================ #\n",
        "\n",
        "# --- Pick your Player: Some suggestions!\n",
        "my_player = ['cristiano ronaldo', 'robbie keane','fernando torres','didier drogba', 'ruud van nistelrooy','zlatan ibrahimovic',\n",
        "             'alan shearer', 'robbie fowler', 'thierry henry','harry kewell', 'robert pires', 'wayne rooney',\n",
        "             'dimitar berbatov', 'nicolas anelka', 'jermain defoe', 'robin van persie','michael owen']\n",
        "\n",
        "# --- --- Let's roll with a smaller set\n",
        "my_player = ['cristiano ronaldo', 'alan shearer','fernando torres','didier drogba',\n",
        "             'zlatan ibrahimovic','wayne rooney','dimitar berbatov','michael owen']\n",
        "\n",
        "# --- How many initial games to 'burn-in' (to allow a bit of a lead period for factor construction) ?\n",
        "match_elim = 5\n",
        "\n",
        "# ================================ USER INTERACTION ================================ #"
      ]
    },
    {
      "cell_type": "markdown",
      "metadata": {
        "id": "yGxvSYdxyyCv"
      },
      "source": [
        "## 1.2 &emsp; Data Engineering ##\n",
        "\n",
        "Gather the data for each player in &emsp; `my_player` &emsp; .\n",
        "\n",
        "- You can look at a <font color='green'>single</font> player only\n",
        "- You can look at <font color='red'>multiple</font> players simultaneously\n",
        "\n",
        "<br>\n",
        "\n",
        "The following cell may run for some minutes ...\n",
        "\n",
        "<br>"
      ]
    },
    {
      "cell_type": "code",
      "execution_count": null,
      "metadata": {
        "id": "n8rVSLcDhpQ1"
      },
      "outputs": [],
      "source": [
        "# =============================== Start the Data-Preparation Loop =============================== #\n",
        "\n",
        "# --- Create a Dictionary where to store each Player's individual Data:\n",
        "MY_PLAYER = dict.fromkeys(my_player, [])\n",
        "\n",
        "for pp in my_player:\n",
        "\n",
        "\n",
        "  # ================================ Some Information on the Player ====================================== #\n",
        "  Player_info = players_info[players_info.player_name == pp]\n",
        "\n",
        "\n",
        "  # ================================ Which Games Has the Player played in? ================================ #\n",
        "\n",
        "  Player_lineup = lineup[lineup.player_id == Player_info.player_id.values[0]].reset_index(drop=True)\n",
        "\n",
        "  # --- Number of Games\n",
        "  N = Player_lineup.shape[0]\n",
        "\n",
        "\n",
        "\n",
        "\n",
        "  # =============================================== Events =============================================== #\n",
        "\n",
        "  # --- Select Player's events\n",
        "  Player_events = events[events.player_id == np.array(Player_info.player_id)[0]]\n",
        "\n",
        "  # --- Select Player's goals\n",
        "  Player_goals = Player_events[Player_events.description == \"goal\"]\n",
        "\n",
        "\n",
        "\n",
        "\n",
        "  # =============================================== Games =============================================== #\n",
        "\n",
        "  # --- Which seasons are played? & Kick-Off Date\n",
        "  matches_seasons = []\n",
        "  kickoff_date = []\n",
        "\n",
        "\n",
        "  for rr in range(N):\n",
        "\n",
        "    matches_seasons.append(games.loc[np.where(Player_lineup.loc[rr,'match_id'] == games.match_id)[0],'season'].values[0])\n",
        "    kickoff_date.append(games.loc[np.where(Player_lineup.loc[rr,'match_id'] == games.match_id)[0],'kickoff_dt'].values[0])\n",
        "\n",
        "\n",
        "  # --- Get the UNIQUE seasons\n",
        "  seasons = np.unique(matches_seasons)\n",
        "\n",
        "  # --- Attach the Season & Kick-Off date\n",
        "  Player_lineup['season'] = matches_seasons\n",
        "  Player_lineup['kickoff_dt'] = kickoff_date\n",
        "\n",
        "  # --- Sort the data-frame by time\n",
        "  Player_lineup = Player_lineup.sort_values('kickoff_dt').reset_index(drop=True)\n",
        "\n",
        "  # --- BEWARE: The 'age' column is probably errorneous: e.g. as of 2022, CR7 has not passed the age of 39 yet!\n",
        "  Player_lineup = Player_lineup.drop('age', 1)\n",
        "\n",
        "\n",
        "  # ================================ Prepare the Team Statistics (by Season) ================================ #\n",
        "\n",
        "  # --- Get the Ladder\n",
        "  table_dict = func_ladder(seasons,games)\n",
        "\n",
        "\n",
        "  # --- Get 'Team Goals Scored'\n",
        "  goals_scored_dict = func_goals_scored(seasons,games)\n",
        "\n",
        "\n",
        "  # --- Get 'Team Goals Conceded'\n",
        "  goals_conceded_dict = func_goals_conceded(seasons,games)\n",
        "\n",
        "\n",
        "  # ================ Prepare the Player's individual Data-Frame (all Seasons in one) ======================== #\n",
        "\n",
        "  # --- Create a dictionary with all relevant data to pass to the function:\n",
        "  dict_build = {'Number of Games': N, 'Player_lineup': Player_lineup,'Lineup':lineup, 'Events': Player_events,\n",
        "                'Games': games, 'Season': seasons, 'Ladder': table_dict,\n",
        "                'Goals Scored': goals_scored_dict, 'Goals Conceded': goals_conceded_dict\n",
        "              }\n",
        "\n",
        "  out = func_Player(dict_build)\n",
        "\n",
        "  # --- Unpack the Output:\n",
        "  Player_df = out['Player_df']\n",
        "\n",
        "  # --- Save your work!\n",
        "  data_true = Player_df\n",
        "\n",
        "\n",
        "\n",
        "  # ==================================== Some Further Data Preparation ======================================= #\n",
        "\n",
        "  data = data_true.copy()\n",
        "\n",
        "  # --- Which are the first 'match_elim' match_days per season?\n",
        "\n",
        "  matches_burn_in = dict.fromkeys(seasons, [])\n",
        "\n",
        "  if match_elim > 0:\n",
        "\n",
        "    for ss in seasons:\n",
        "\n",
        "      # --- Which is the Player's Team?\n",
        "      id_team_ss = pd.unique(data_true.id_team[data_true.season == ss].values)[0]\n",
        "\n",
        "      # --- Which are team's games in season 'ss'?\n",
        "      games_ss = games[(games.season == ss) & ((games.home_team_id == id_team_ss) | (games.away_team_id == id_team_ss))].sort_values('kickoff_dt').reset_index(drop=True)\n",
        "\n",
        "      # --- Extract the 'match_id' of the first 'match_elim' matches:\n",
        "      id_ss = games_ss.match_id[:match_elim].values\n",
        "\n",
        "      # --- Eliminate all matches with 'match_id' == 'id_ss':\n",
        "      data = data[~data['id_match'].isin(id_ss)].reset_index(drop=True)\n",
        "\n",
        "\n",
        "\n",
        "\n",
        "  # ==================================== Create Additional Features ======================================= #\n",
        "\n",
        "  # ---- Difference in goals-scored between 'team' and 'opp': diff > 0 --> higher likelihood of Player scoring (?) --> probably debatable !\n",
        "  data['goalsscored_diff'] = data['goalsscored_cum_team'].astype(float) - data['goalsscored_cum_opp'].astype(float)\n",
        "\n",
        "  # ---- Goal-Balance Team: goals-scored - goals-conceded: diff > 0 --> higher likelihood of Player scoring\n",
        "  data['goal_balance_team'] = data['goalsscored_cum_team'].astype(float) - data['goalsconceded_cum_team'].astype(float)\n",
        "\n",
        "  # ---- Goal-Balance Opponent: goals-scored - goals-conceded: diff > 0 --> not sure about infering anything about the likelihood of Player scoring\n",
        "  data['goal_balance_opp'] = data['goalsscored_cum_opp'].astype(float) - data['goalsconceded_cum_opp'].astype(float)\n",
        "\n",
        "  # ---- Difference of Goal-Balance Team vs Goal-Balance Opponent: diff > 0 --> higher likelihood of Player scoring\n",
        "  data['goal_balance_diff'] = data['goal_balance_team'].astype(float) - data['goal_balance_opp'].astype(float)\n",
        "\n",
        "  # ---- Difference in points between 'team' and 'opp': diff > 0 --> higher likelihood of Player scoring\n",
        "  data['points_diff'] = data['points_team'].astype(float) - data['points_opp'].astype(float)\n",
        "\n",
        "  # ---- Share of Player's goals within the team: higher share --> higher likelihood of Player scoring\n",
        "  #      --> but isn't a high share rather an indication of a player's ability?\n",
        "  data['goalsscored_share_player_team'] = data['goalsscored_cum_player'].astype(float) / data['goalsscored_cum_team'].astype(float)\n",
        "\n",
        "\n",
        "\n",
        "  # ============================ THE END IS NEAR! Save your Player's Data ================================= #\n",
        "  MY_PLAYER[pp] = data\n",
        "\n",
        "\n"
      ]
    },
    {
      "cell_type": "markdown",
      "metadata": {
        "id": "50WHVQn1n-Fc"
      },
      "source": [
        "## 1.3 &emsp; Data Collection\n",
        "\n",
        "Assemble the data in a single matrix called `data` ."
      ]
    },
    {
      "cell_type": "code",
      "execution_count": null,
      "metadata": {
        "colab": {
          "base_uri": "https://localhost:8080/"
        },
        "id": "GbzhxDcIaxEM",
        "outputId": "addd9cfb-9fae-43c7-aa17-ef00058ee950"
      },
      "outputs": [
        {
          "output_type": "execute_result",
          "data": {
            "text/plain": [
              "Index(['goal', 'goals_in_match', 'points_team', 'points_opp',\n",
              "       'goalsscored_cum_team', 'goalsscored_cum_opp', 'goalsconceded_cum_team',\n",
              "       'goalsconceded_cum_opp', 'home_pitch', 'goalsscored_rank_team',\n",
              "       'goalsconceded_rank_opp', 'goalsscored_rank_team_wo_player',\n",
              "       'goalsscored_cum_player', 'id_match', 'id_team', 'id_opp', 'name_team',\n",
              "       'name_opp', 'season', 'kickoff_dt', 'goalsscored_rank_opp',\n",
              "       'goalsconceded_rank_team', 'goalsscored_diff', 'goal_balance_team',\n",
              "       'goal_balance_opp', 'goal_balance_diff', 'points_diff',\n",
              "       'goalsscored_share_player_team', 'name_player'],\n",
              "      dtype='object')"
            ]
          },
          "metadata": {},
          "execution_count": 11
        }
      ],
      "source": [
        "# ========================================================================================================= #\n",
        "#\n",
        "#           If you have specified several Players, i.e. if len(my_player) > 1,\n",
        "#           you may want to row-bind the individual Data-Frames.\n",
        "#\n",
        "# ========================================================================================================= #\n",
        "\n",
        "if len(my_player) > 1:\n",
        "\n",
        "  data_true = MY_PLAYER[list(MY_PLAYER)[0]].copy()\n",
        "  # --- Assign Player-Name\n",
        "  data_true[\"name_player\"] = list(MY_PLAYER)[0]\n",
        "\n",
        "  for ll in my_player[1:]:\n",
        "\n",
        "    help_ll = MY_PLAYER[ll].copy()\n",
        "    # --- Assign Player-Name\n",
        "    help_ll[\"name_player\"] = ll\n",
        "\n",
        "    data_true = pd.concat([data_true,help_ll], ignore_index=True)\n",
        "\n",
        "else:\n",
        "\n",
        "  data_true = MY_PLAYER[list(MY_PLAYER)[0]].copy()\n",
        "  # --- Assign Player-Name\n",
        "  data_true[\"name_player\"] = list(MY_PLAYER)[0]\n",
        "\n",
        "\n",
        "# --- Save your work!\n",
        "data = data_true.copy()\n",
        "\n",
        "# ==================== The Universe of Features/Factors to Choose from ===================== #\n",
        "data.columns"
      ]
    },
    {
      "cell_type": "markdown",
      "metadata": {
        "id": "D7ARwMSdZA_u"
      },
      "source": [
        "## <font size=\"6.5\"> &emsp; &emsp; **2. &emsp; Kick-Off**</font>\n",
        "<br>\n",
        "\n",
        "Let's figure out the Skill/Ability of our players ... or whether it is just the team that does the *dirty* work.\n",
        "\n",
        "<br>\n",
        "\n",
        "The following exercise consists of two separate workflows, hence you don't have to run them in order. Though running both may allow for a nice comparison of results.\n",
        "\n",
        "> 1. Run the SFM for only a <font color='green'>single</font> player. That is, your `data`-matrix will only include data for a single player that you specify in `my_player_single`.\n",
        "\n",
        "> 2. Run the SFM for <font color='red'>multiple</font> players. That is, your `data`-matrix will include data for all the players in the list `my_player` that you specified above."
      ]
    },
    {
      "cell_type": "markdown",
      "metadata": {
        "id": "dM4EPiCzCWGs"
      },
      "source": [
        "### <font size=\"5\" color=\"green\">**2.1 &emsp; Single Player**</font>\n",
        "\n",
        "<br>\n",
        "\n",
        "Recall the model from Equation $\\left(1\\right)$:\n",
        "\n",
        "<br>\n",
        "\n",
        "<br>\n",
        "\n",
        "\\begin{align}\n",
        "     p_i \\equiv   P\\left(Y_{i} = 1 | \\mathbf{X}_{i}, \\alpha_i, \\beta \\right) = \\sigma \\left(\\alpha_i + \\mathbf{X}_{i} \\, \\mathbf{\\beta} \\right) \\qquad \\left( 1 \\right )\n",
        "\\end{align}\n",
        "\n",
        "<br>\n",
        "\n",
        "Some user-interaction is required here:\n",
        "\n",
        "> - `my_vars`: &emsp;&emsp;&emsp;&emsp;&emsp;&emsp;&emsp;&emsp;&emsp;&emsp;&emsp;&emsp;&emsp;&emsp;&emsp;&emsp;&emsp;&emsp;&emsp; Specify the list of features $\\mathbf{X}_{i}$ . You can -- in theory -- choose any variable from `data.columns`.\n",
        "> - `my_player_single`: &emsp;&emsp; Specify your player of interest.\n",
        "> - `I_want_stand`: &emsp;&emsp;&emsp;&emsp;&emsp;&emsp;&emsp;&emsp;&emsp;&emsp; The option to standardize the data, which I kept as the default option, since it helps with model-fit <br> &emsp;&emsp;&emsp;&emsp;&emsp;&emsp;&emsp;&emsp;&emsp;&emsp;&emsp;&emsp;&emsp;&emsp;&emsp;&emsp;&emsp;&emsp;&emsp;&emsp;&emsp;&emsp;&emsp;&emsp;&emsp;&emsp;&emsp;&emsp;&emsp;&emsp;&emsp;&emsp;&emsp;&emsp;&emsp;&emsp; and reduces the credible region of $\\alpha_i$.\n"
      ]
    },
    {
      "cell_type": "code",
      "source": [
        "# ================================== USER INTERACTION ============================== #\n",
        "\n",
        "# --- Define your explanatory variables [column names of 'data']:\n",
        "my_vars = ['goalsscored_rank_team','goalsscored_rank_team_wo_player','home_pitch',\n",
        "           'goalsconceded_rank_opp','points_diff','goal_balance_diff']\n",
        "\n",
        "# --- Which is your Player of choice?\n",
        "my_player_single = 'cristiano ronaldo'\n",
        "\n",
        "# --- Do you want to standardize your data?\n",
        "I_want_stand = True\n",
        "\n",
        "# ================================== USER INTERACTION ============================== #"
      ],
      "metadata": {
        "id": "kcBOYDhms5w0"
      },
      "execution_count": null,
      "outputs": []
    },
    {
      "cell_type": "code",
      "execution_count": null,
      "metadata": {
        "id": "WWAHv8OSe53U"
      },
      "outputs": [],
      "source": [
        "# ================================== Define your Y and X ============================== #\n",
        "\n",
        "# --- Prepare the data set:\n",
        "data_single = data[data.name_player == my_player_single].copy()\n",
        "\n",
        "X_train = np.array(data_single[my_vars]).astype(float)\n",
        "Y_train = np.array(data_single['goal'])\n",
        "\n",
        "\n",
        "# --- Want to do some standardization?\n",
        "if I_want_stand == True:\n",
        "\n",
        "  X_train_true = X_train.copy()\n",
        "\n",
        "  # --- --- Mean & SD of 'data'\n",
        "  X_mean = np.mean(X_train_true, axis=0)\n",
        "  X_sd = np.std(X_train_true, axis=0)\n",
        "\n",
        "  # ---- --- Standardize 'data'\n",
        "  X_train = (X_train_true - X_mean) / X_sd"
      ]
    },
    {
      "cell_type": "markdown",
      "source": [
        "<br>\n",
        "\n",
        "<font color='darkred'>**DISCUSSION**</font>: &emsp; `home_pitch` is *neither* a factor in the tradition of the asset pricing literature, *nor* is it clear whether scoring at home isn't actually <br> &emsp;&emsp;&emsp;&emsp;&emsp;&emsp;&emsp;&emsp;&emsp;&emsp;&emsp;&emsp;&emsp;&emsp;&emsp;&emsp;&emsp;&emsp;&emsp;&emsp;&emsp;&emsp;&emsp;&emsp; a sign of a player's capability to adapt, hence a feature of his skill/ability ?! <br> &emsp;&emsp;&emsp;&emsp;&emsp;&emsp;&emsp;&emsp;&emsp;&emsp;&emsp;&emsp;&emsp;&emsp;&emsp;&emsp;&emsp;&emsp;&emsp;&emsp;&emsp;&emsp;&emsp;&emsp;\n",
        "Nonetheless, similar to standardizing the data, it gives the model a better fit (also confirmed in a pseudo out-of-sample setting <br> &emsp;&emsp;&emsp;&emsp;&emsp;&emsp;&emsp;&emsp;&emsp;&emsp;&emsp;&emsp;&emsp;&emsp;&emsp;&emsp;&emsp;&emsp;&emsp;&emsp;&emsp;&emsp;&emsp;&emsp; by LOO and WAIC) and slightly reduces the uncertainty surrounding $\\alpha_i$ (for the interested reader: see [this notebook](https://github.com/maxi-tb22/SFM/blob/main/00_code/SFM.ipynb))."
      ],
      "metadata": {
        "id": "FghMqa3Qb4W_"
      }
    },
    {
      "cell_type": "markdown",
      "source": [
        "<br>\n",
        "\n",
        "================================================ <font color='green'>**TASK 1 -- START**</font> ================================================\n",
        "\n",
        "<br>\n",
        "\n",
        "Now it's time to create our first model. Recall Equation $\\left(1\\right)$:\n",
        "\n",
        "\n",
        "\\begin{align}\n",
        "     p_i \\equiv   P\\left(Y_{i} = 1 | \\mathbf{X}_{i}, \\alpha_i, \\beta \\right) = \\sigma \\left(\\alpha_i + \\mathbf{X}_{i} \\, \\mathbf{\\beta} \\right) \\qquad \\left( 1 \\right )\n",
        "\\end{align}\n",
        "\n",
        "<br>\n",
        "\n",
        "\n",
        "\n",
        "- which distributions are appropriate as priors for the parameters $\\left(\\alpha_i, \\beta\\right)$ in our model?\n",
        "- which distribution best describes the traget variable $\\mathbf{Y}_i$?\n",
        "\n",
        "<br>\n",
        "\n",
        "<font color='red'>**NOTE**</font>: The model container below gives you some hints, but don't feel obliged to follow the exact same structure. I will not set any hyperpriors, but feel free to play around and be creative.\n"
      ],
      "metadata": {
        "id": "suTSA-ylvnQS"
      }
    },
    {
      "cell_type": "code",
      "execution_count": null,
      "metadata": {
        "id": "MBsx2UvFsBkf"
      },
      "outputs": [],
      "source": [
        "# ========================================== Define the Model ================================================= #\n",
        "\n",
        "with pm.Model() as SFM:\n",
        "\n",
        "  # --- Set your priors:\n",
        "\n",
        "  # --- \"\\alpha\", i.e. the parameter that will give us the Player's ability\n",
        "  alpha = ____\n",
        "\n",
        "  # --- \"\\beta(s)\": the factors are actually designed such that higher/more positive values\n",
        "  #     INCREASE the likelihood of the player scoring ---> i.e. this \"decreases\" 'alpha'\n",
        "  #     ---> Option 1:  model \"\\beta(s)\" to be positive numbers\n",
        "  #     ---> Option 2:  let's be agnostic and allow for negative values as well\n",
        "  beta = ____\n",
        "\n",
        "  # --- Probability of Scoring:\n",
        "  p_score = ____\n",
        "\n",
        "\n",
        "  # --- Fit the Data:\n",
        "  likelihood = ____\n"
      ]
    },
    {
      "cell_type": "markdown",
      "source": [
        "\n",
        "================================================ <font color='green'>**TASK 1 -- END**</font> =================================================\n",
        "\n",
        "<br>\n",
        "<br>"
      ],
      "metadata": {
        "id": "GiFf-7940JJw"
      }
    },
    {
      "cell_type": "code",
      "execution_count": null,
      "metadata": {
        "id": "wfBeEr20IDS1"
      },
      "outputs": [],
      "source": [
        "# --- What does our model look like?\n",
        "pm.model_to_graphviz(SFM)"
      ]
    },
    {
      "cell_type": "markdown",
      "source": [
        "<br>\n",
        "\n",
        "================================================ <font color='green'>**TASK 2 -- START**</font> ================================================\n",
        "\n",
        "<br>\n",
        "\n",
        "Draw from the posterior distribution:\n",
        "- number of samples: &emsp; &emsp; &emsp; &emsp; 10.000\n",
        "- number of burn-in steps: &ensp; 3.000"
      ],
      "metadata": {
        "id": "sPhPuDdZpyUc"
      }
    },
    {
      "cell_type": "code",
      "execution_count": null,
      "metadata": {
        "id": "xldjknqozvzA"
      },
      "outputs": [],
      "source": [
        "# ========================================== Click the Inference Button ================================================= #\n",
        "\n",
        "with SFM:\n",
        "\n",
        "  trace = ____"
      ]
    },
    {
      "cell_type": "markdown",
      "source": [
        "\n",
        "================================================ <font color='green'>**TASK 2 -- End**</font>  ================================================="
      ],
      "metadata": {
        "id": "n1uYmYmg0PJz"
      }
    },
    {
      "cell_type": "markdown",
      "source": [
        "<br>\n",
        "\n",
        "**Some Diagnostics of our Sampling**\n",
        "\n",
        "Even though the sampling may not have triggered any warnings, let's have a closer look by inspecting the trace itself.\n",
        "When running the following cell, the picture on the right-hand-side should look something like the following:\n",
        "\n",
        "<br>\n",
        "\n",
        "![image.png](data:image/png;base64,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)\n",
        "\n"
      ],
      "metadata": {
        "id": "W4EevRvunz3B"
      }
    },
    {
      "cell_type": "markdown",
      "source": [
        "<br>\n",
        "\n",
        "================================================ <font color='green'>**TASK 3 -- START**</font> ================================================\n",
        "\n",
        "<br>\n",
        "\n",
        "Plot the trace of the Markov chain."
      ],
      "metadata": {
        "id": "VvTi12R73Gzh"
      }
    },
    {
      "cell_type": "code",
      "execution_count": null,
      "metadata": {
        "id": "RHYeVlcW0I5T"
      },
      "outputs": [],
      "source": [
        "# ========================================== Diagnostics ================================================= #\n",
        "\n",
        "with SFM:\n",
        "\n",
        "  traceplot = ____\n"
      ]
    },
    {
      "cell_type": "markdown",
      "source": [
        "================================================ <font color='green'>**TASK 3 -- END**</font> ================================================="
      ],
      "metadata": {
        "id": "2W1hr7Rz4Jo9"
      }
    },
    {
      "cell_type": "markdown",
      "source": [
        "<br>\n",
        "\n",
        "Let's inspect the posterior distribiution of our main parameter of interest -- the (estimated) skill/ability ( $\\hat{\\alpha}_i$ ) of our player of interest -- a bit more closely:\n",
        "\n",
        "\n",
        "Of course, the loadings on the team statistics ( $\\hat{\\beta}$ ) might not be any less interesting!"
      ],
      "metadata": {
        "id": "sIC_WSrweGob"
      }
    },
    {
      "cell_type": "markdown",
      "source": [
        "<br>\n",
        "\n",
        "================================================ <font color='green'>**TASK 4 -- START**</font> ================================================\n",
        "\n",
        "<br>\n",
        "\n",
        "Plot the posterior distribution for $\\alpha_i$."
      ],
      "metadata": {
        "id": "tU1Y7AEn4SOO"
      }
    },
    {
      "cell_type": "code",
      "execution_count": null,
      "metadata": {
        "id": "fhD0fsTM8mRD"
      },
      "outputs": [],
      "source": [
        "# ========================================== Diagnostics: Plot Posterior ================================================= #\n",
        "\n",
        "with SFM:\n",
        "\n",
        "  az.____"
      ]
    },
    {
      "cell_type": "markdown",
      "source": [
        "================================================ <font color='green'>**TASK 4 -- END**</font> ================================================="
      ],
      "metadata": {
        "id": "MoV-YTFk4iO6"
      }
    },
    {
      "cell_type": "markdown",
      "metadata": {
        "id": "_0dMOItoGy9J"
      },
      "source": [
        "<br>\n",
        "\n",
        "\n",
        "So far so good. But now let's do what we are here for and answer our main research question:\n",
        "\n",
        "<br>\n",
        "\n",
        "\n",
        "<center><font color='gold' size=4.5>\" What is the probability of a player scoring, based only on his Skill/Ability? \"</font></center>\n",
        "\n",
        "<br>\n",
        "\n",
        "Said differently, what is a player's probability of scoring if all teams were equally strong (or weak)?\n",
        "\n",
        "<br>\n",
        "\n",
        "Here we'll go on a liitle detour. Note that instead of using the $\\mathtt{sigmoid}$ function, we can rewrite Equation $\\left( 1 \\right)$ in form of the log-odds-ratio:\n",
        "\n",
        "<br>\n",
        "\n",
        "\\begin{align}\n",
        "     log\\left(\\frac{\\hat{p}_{i}}{1-\\hat{p}_{i}}\\right) = \\hat{\\alpha}_i + \\mathbf{X}_{i} \\, \\mathbf{\\hat{\\beta}}\n",
        "\\end{align}\n",
        "\n",
        "where the little hat above our parameters $\\left( \\hat{} \\right)$ just indicates that these are *estimates* of the *true parameters* that we draw from the joint-posterior distribution (`trace.posterior`).\n",
        "\n",
        "<br>\n",
        "\n",
        "We now conduct the following steps to answer our research-question stated above:\n",
        "\n",
        "> 1. By assuming that *all teams are equally strong*, we set all our \"factors\" ($\\mathbf{X}_{i}$) to 0, such that our model reduces to:\n",
        "\n",
        "$$log\\left(\\frac{\\hat{p}_{i}}{1-\\hat{p}_{i}}\\right) = \\hat{\\alpha}_{i}$$\n",
        "\n",
        "> 2. Then, we get the probability $\\hat{p}_{i}$ by rearranging:\n",
        "\n",
        "$$\\hat{p}_{i} = \\frac{e^{\\hat{\\alpha}_{i}}}{1+e^{\\hat{\\alpha}_{i}}}$$\n",
        "\n",
        "\n",
        "> 3. Which value to choose for $\\hat{\\alpha}_{i}$? The *mean* or the *median*?\n",
        "I mostly go with the *median*, but feel free to play around."
      ]
    },
    {
      "cell_type": "markdown",
      "source": [
        "================================================ <font color='green'>**TASK 5 -- START**</font> ================================================\n",
        "\n",
        "<br>\n",
        "\n",
        "Let's get our estimate for $\\hat{\\alpha}_i$ :\n",
        "\n",
        "- calculate the mean\n",
        "- calculate the median"
      ],
      "metadata": {
        "id": "hf7qsvfB41gJ"
      }
    },
    {
      "cell_type": "code",
      "execution_count": null,
      "metadata": {
        "id": "SsIzW_AMJTx7"
      },
      "outputs": [],
      "source": [
        "# --- Let's choose the mean\n",
        "alpha_mean = ____\n",
        "print(\"Mean Skill (\\u03B1\\u1d62): \", np.round(alpha_mean, 2))\n",
        "\n",
        "# --- Or the median\n",
        "alpha_median = ____\n",
        "print(\"Median Skill (\\u03B1\\u1d62): \", np.round(alpha_median, 2))"
      ]
    },
    {
      "cell_type": "markdown",
      "source": [
        "================================================ <font color='green'>**TASK 5 -- END**</font> =================================================\n"
      ],
      "metadata": {
        "id": "Bh0MubRI5SYU"
      }
    },
    {
      "cell_type": "markdown",
      "source": [
        "================================================ <font color='green'>**TASK 6 -- START**</font> ================================================\n",
        "\n",
        "<br>\n",
        "\n",
        "Take either the *mean* or the *median* of $\\hat{\\alpha}_i$, and transform it into $\\hat{p}_i$ using:\n",
        "\n",
        "$$\\hat{p}_{i} = \\frac{e^{\\hat{\\alpha}_{i}}}{1+e^{\\hat{\\alpha}_{i}}}$$"
      ],
      "metadata": {
        "id": "rGZ5ZJXe5dwS"
      }
    },
    {
      "cell_type": "code",
      "source": [
        "# =================================== Define a Helper-Function =================================== #\n",
        "\n",
        "def sigmoid_activation(x):\n",
        "\n",
        "  return ____\n"
      ],
      "metadata": {
        "id": "z5gopgNZRgvW"
      },
      "execution_count": null,
      "outputs": []
    },
    {
      "cell_type": "code",
      "execution_count": null,
      "metadata": {
        "id": "oT4eZsD-GGt7"
      },
      "outputs": [],
      "source": [
        "# ---- Probability of Scoring, conditioning on Skill/Ability only (choose either 'alpha_mean' or 'alpha_median'):\n",
        "prob = ____\n",
        "\n",
        "print(\"Probability of Scoring (only based on Skill): \", np.round( prob ,2))"
      ]
    },
    {
      "cell_type": "markdown",
      "source": [
        "================================================ <font color='green'>**TASK 6 -- END**</font> ================================================="
      ],
      "metadata": {
        "id": "niYocvOw59dV"
      }
    },
    {
      "cell_type": "markdown",
      "metadata": {
        "id": "0o2xY-MtO3p5"
      },
      "source": [
        "<br>\n",
        "\n",
        "================================================ <font color='green'>**TASK 7 -- START**</font> ================================================\n",
        "\n",
        "<br>\n",
        "\n",
        "**Let's define the Uncertainty around our Point Prediction**\n",
        "\n",
        "That is, define the boundaries $\\left[\\hat{p}^{low}_{i},\\hat{p}^{up}_{i}\\right]$ of the interval, within which our point-estimate $\\hat{p}_{i}$ ranges with `cred_region` % of certainty."
      ]
    },
    {
      "cell_type": "code",
      "execution_count": null,
      "metadata": {
        "id": "tOuwWIosNo7p"
      },
      "outputs": [],
      "source": [
        "# ---- Let's define the Uncertainity:\n",
        "cred_region = 0.95\n",
        "\n",
        "# --- --- Get the \"alpha\" value at the lower- and upper-bounds\n",
        "alpha_post_up = ____\n",
        "alpha_post_low = ____\n",
        "\n",
        "# --- --- Convert to Probabilities\n",
        "prob_up = ____\n",
        "prob_low = ____\n",
        "\n",
        "print(\"Credible Region: \", cred_region * 100,\"% \\n\")\n",
        "print(\"Probability of Scoring (only based on Skill) -- Lower Bound: \", np.round( prob_low ,2))\n",
        "print(\"Probability of Scoring (only based on Skill) -- Upper Bound: \", np.round( prob_up ,2))"
      ]
    },
    {
      "cell_type": "markdown",
      "source": [
        "================================================ <font color='green'>**TASK 7 -- END**</font> ================================================="
      ],
      "metadata": {
        "id": "J8EN_MUw6lG1"
      }
    },
    {
      "cell_type": "markdown",
      "metadata": {
        "id": "bnz90KNGR7g9"
      },
      "source": [
        "<br>\n",
        "\n",
        "Well ... interesting ...\n",
        "\n",
        "...<font size=\"4\">**but is our model actually any good, or just producing complete crap?**</font>\n",
        "\n",
        "That is, let's have a look at what our model tells us about the probability of player $i$ scoring a goal ($\\hat{Y}_i$), and how well these *in-sample* predictions match the observed occurrences ($Y_i$).\n",
        "\n",
        "<br><br>\n",
        "\n",
        "In order to get $\\hat{Y}$, we'll draw samples from the **Posterior Predictive Distribution**.\n",
        "That is, we compute a Bernoulli distribution based on samples of our posterior estimates for the probability of player $i$ scoring ($\\hat{p}_i$), which we extract from `trace.posterior[\"p_score\"]`.\n",
        "What we get in return is a **binary** vector $\\hat{Y}$ made up of $0$ and $1$.\n",
        "\n",
        "<br><br>\n",
        "\n",
        "Then we can evaluate how well our model's predictions for a player scoring ($\\hat{Y}_i = 1$) or not ($\\hat{Y}_i = 0$) match our empricially observed data ($Y_i$). Some of the frequently used *evaluation metrics* to do that are:\n",
        "\n",
        "> - Mean-Squared Error (MSE): &emsp;&emsp;&emsp;&emsp;&emsp;&emsp;&emsp;&emsp;&emsp;&emsp;&emsp; the classical metric for regression-models;\n",
        "> - Log-Probability Loss (Log-Prob): &emsp;&emsp;&emsp; since we're dealing with a classification exercise;\n",
        "> - Area Under the Curve (AUC): &emsp;&emsp;&emsp;&emsp;&emsp;&emsp;&emsp;&emsp;&emsp; maybe the most common metric for classification exercises;\n",
        "\n",
        "<br>\n",
        "\n",
        "I feel most comfortable to judge the model by looking at the AUC (often also called AUROC (Area Under the Receiver-Operating-Cost Curve)). The AUC tells us pretty neatly, whether our model actually adds some value to predict player $i$'s probability to score in the upcoming match.\n",
        "\n",
        "> $AUC_i = 0.5$: &ensp;&ensp; we can be pretty confident that our model is no good and we could have just tossed a coin instead.\n",
        "\n",
        "> $AUC_i = 1$: &ensp;&ensp;&ensp;&emsp; we've pretty much nailed it! Not only does our model accurately predict whether <br> &ensp;&ensp;&ensp;&ensp;&ensp;&ensp;&ensp;&ensp;&ensp;&ensp;&ensp;&ensp;&ensp;&ensp;&ensp; player $i$ scores in the upcoming match or not, but we have also done an awesome job in specifying our model <br> &ensp;&ensp;&ensp;&ensp;&ensp;&ensp;&ensp;&ensp;&ensp;&ensp;&ensp;&ensp;&ensp;&ensp;&ensp; (read: which team-factors to include and which not) !\n",
        "\n",
        "<br>\n",
        "\n",
        "<font color='darkred'>**DISCLAIMER**</font>: &emsp; When I say \"*accurately predict*\", beware that this is en entirely *in-sample* (explanatory) analysis. The model may <br> &emsp;&emsp;&emsp;&emsp;&emsp;&emsp;&emsp;&emsp;&emsp;&emsp;&emsp;&emsp;&emsp;&emsp;&emsp;&emsp;&emsp;&emsp;&emsp;&emsp;&emsp;&emsp;&emsp;&emsp; potentially radically overfit, and then produce complete non-sense in an out-of-sample exercise, i.e. on data it has not yet seen.\n",
        "\n",
        "<br>\n",
        "\n",
        "While this is a big concern, making out-of-sample predictions is not what this whole exercise had been intended to produce.\n",
        "That's why I'll save the testing of the model's out-of-sample performance for the future...\n",
        "\n",
        "\n",
        "<br><br>\n",
        "\n",
        "Enough rambling, let's move on to the evaluation..."
      ]
    },
    {
      "cell_type": "markdown",
      "source": [
        "<br>\n",
        "\n",
        "================================================ <font color='green'>**TASK 8 -- START**</font> ================================================\n",
        "\n",
        "<br>\n",
        "\n",
        "In order to evaluate your model's predictive ability, calculate the following metrics:\n",
        "\n",
        "- Root-Mean-Squared-Error (RMSE), i.e. in classification exercises also called the *Brier Score*\n",
        "\n",
        "- Log-Probability-Score (Log-Prob)\n",
        "\n",
        "- Area Under the (Receiver Operating Cost) Curve (AUC)"
      ],
      "metadata": {
        "id": "sx-G97xLLr0U"
      }
    },
    {
      "cell_type": "code",
      "source": [
        "# =================================== Define Some Helper-Functions =================================== #\n",
        "\n",
        "def func_rmse(y_true,y_hat):\n",
        "\n",
        "  return ____\n",
        "\n",
        "def func_logprob(y_true,y_hat):\n",
        "\n",
        "  return ____"
      ],
      "metadata": {
        "id": "cM9wpdFS8l76"
      },
      "execution_count": null,
      "outputs": []
    },
    {
      "cell_type": "code",
      "execution_count": null,
      "metadata": {
        "id": "Ws4E1F2M_v79"
      },
      "outputs": [],
      "source": [
        "# =================================== Get predictive samples =================================== #\n",
        "\n",
        "pred_samples = trace.____\n",
        "\n",
        "# --- Calculate the Mean\n",
        "mean = ____\n",
        "\n",
        "print(\"Player: \" + my_player_single)\n",
        "print(\"\\n\")\n",
        "print(\"RMSE:     \" , np.round(func_rmse(y_true=Y_train,y_hat=mean),4))\n",
        "print(\"Log-Prob: \" , np.round(func_logprob(y_true=Y_train,y_hat=mean),4))\n",
        "print(\"AUC:      \", np.round(roc_auc_score(y_true=Y_train,y_score=mean),4))\n"
      ]
    },
    {
      "cell_type": "markdown",
      "source": [
        "================================================ <font color='green'>**TASK 8 -- END**</font> ================================================="
      ],
      "metadata": {
        "id": "uOmlmb-F9qPN"
      }
    },
    {
      "cell_type": "markdown",
      "source": [
        "<br><br>\n",
        "Hopefully we got an $AUC$ north of at least  $0.65$ -- or even better  $0.70$ (let's not shoot for the moon and hope to get something like $0.85$). Otherwise we should probably think about adjusting our model in terms of which \"factors\" to in- and exclude.\n"
      ],
      "metadata": {
        "id": "heWtUBfr9lhU"
      }
    },
    {
      "cell_type": "markdown",
      "source": [
        "<br>\n",
        "\n",
        "**Final Exercise: Time-Series Plot!**\n",
        "\n",
        "Let's look at the player's probability of scoring -- based on the full model -- over time. The shaded areas are the matches in which the player has scored a goal."
      ],
      "metadata": {
        "id": "vLfzUfUA-x__"
      }
    },
    {
      "cell_type": "code",
      "execution_count": null,
      "metadata": {
        "id": "VnGDlDF2rOG5"
      },
      "outputs": [],
      "source": [
        "# ======================== Let's look at the Time-Series of our estimated probabilities (where: P(Y=1|alpha + X' beta)) =================== #\n",
        "\n",
        "timesteps = data_single.kickoff_dt\n",
        "\n",
        "# --- Pick 10 labels for the x-axis\n",
        "x_label = np.repeat('',len(timesteps)).astype('<U10')\n",
        "for ll in np.linspace(0,len(x_label)-1,10, dtype=int):\n",
        "  x_label[ll] = timesteps[ll][0:10]\n",
        "\n",
        "\n",
        "# --- Initialize the plot\n",
        "fig, ax = plt.subplots(1,1,figsize=(10,5))\n",
        "\n",
        "# --- Shade the Matches with Goals\n",
        "ax.fill_between(data_single.kickoff_dt, 0,1,\n",
        "                    where=data_single['goal'],\n",
        "                    transform=ax.get_xaxis_transform(),\n",
        "                    color='gray')\n",
        "\n",
        "# --- Plot the mean\n",
        "plt.plot(timesteps,mean,color='red',label='Mean Scoring Probability')\n",
        "\n",
        "\n",
        "# ---- Some cosmetics\n",
        "plt.xlim([timesteps[0],timesteps[len(timesteps)-1]])\n",
        "plt.ylim([0,1])\n",
        "plt.ylabel('Probability of Scoring')\n",
        "ax.set_xticklabels(x_label)\n",
        "ax.tick_params(axis='x',rotation=90)\n",
        "\n",
        "# ---- Show the plot\n",
        "plt.show()"
      ]
    },
    {
      "cell_type": "markdown",
      "metadata": {
        "id": "xbMuwa8qgUXe"
      },
      "source": [
        "<br>\n",
        "<br>\n",
        "<br>\n",
        "\n",
        "### <font size=\"5\" color=\"red\">**2.2 &emsp; Multiple Players**</font>\n",
        "\n",
        "<br>\n",
        "\n",
        "*Question*: &emsp;&emsp; Why look at multiple players?\n",
        "\n",
        "*Answer*: &emsp;&emsp;&emsp;&emsp; We will *pool* the observations of several players, which will give us *more* training-data, <br> &emsp;&emsp;&emsp;&emsp;&emsp;&emsp;&emsp;&emsp;&emsp;&emsp;&emsp;&emsp;&emsp;&emsp;&emsp;&emsp;&emsp;&emsp; which in turn shall improve the precision of our parameter estimates."
      ]
    },
    {
      "cell_type": "markdown",
      "source": [
        "<br>\n",
        "\n",
        "The following cell allows you to specify\n",
        "\n",
        "> - `my_vars`: &emsp;&emsp;&emsp;&emsp;&emsp;&emsp;&emsp;&emsp;&emsp;&emsp;&emsp;&emsp;&emsp;&emsp;&emsp;&emsp;&emsp;&emsp;&emsp; The list of features $\\mathbf{X}$ . You can -- in theory -- choose any variable from `data.columns`.\n",
        "> - `I_want_stand`: &emsp;&emsp;&emsp;&emsp;&emsp;&emsp;&emsp;&emsp;&emsp;&emsp; The option to standardize the data."
      ],
      "metadata": {
        "id": "-3NTOdWnpcbN"
      }
    },
    {
      "cell_type": "code",
      "source": [
        "# ================================== USER INTERACTION ============================== #\n",
        "\n",
        "# --- Define your explanatory variables [column names of 'data']:\n",
        "my_vars = ['goalsscored_rank_team','goalsscored_rank_team_wo_player','home_pitch',\n",
        "           'goalsconceded_rank_opp','points_diff','goal_balance_diff']\n",
        "\n",
        "# --- Do you want to standardize your data?\n",
        "I_want_stand = True\n",
        "\n",
        "# ================================== USER INTERACTION ============================== #"
      ],
      "metadata": {
        "id": "1Zx0uN9nsKl7"
      },
      "execution_count": null,
      "outputs": []
    },
    {
      "cell_type": "code",
      "execution_count": null,
      "metadata": {
        "id": "vKWFM1dSgSUO"
      },
      "outputs": [],
      "source": [
        "# ================================== Define your Y and X ============================== #\n",
        "\n",
        "# --- Get your X and Y\n",
        "X_train = np.array(data[my_vars]).astype(float)\n",
        "Y_train = np.array(data['goal'])\n",
        "\n",
        "\n",
        "# --- Before moving on: do you want to standardize the features?\n",
        "if I_want_stand == True:\n",
        "\n",
        "  X_train_true = X_train.copy()\n",
        "\n",
        "  # --- --- Mean & SD of 'data'\n",
        "  X_mean = np.mean(X_train_true, axis=0)\n",
        "  X_sd = np.std(X_train_true, axis=0)\n",
        "\n",
        "  # ---- --- Standardize 'data'\n",
        "  X_train = (X_train_true - X_mean) / X_sd"
      ]
    },
    {
      "cell_type": "markdown",
      "metadata": {
        "id": "hJejlc-PxZ1P"
      },
      "source": [
        "<font size='4'>**How does our model in Equation $\\left( 1 \\right)$ change?**</font>\n",
        "\n",
        "<br>\n",
        "\n",
        "With multiple players in our training set, i.e. with a dataset that is a pooled cross-section of indviduals, we have a few more modeling options available to us.\n",
        "The intention is of course that these choices will give us more precise estimates of our paramters (i.e. reduce sharpen the posterior distribution of our parameters).\n",
        "\n",
        "<br>\n",
        "\n",
        "Given an altered data-structure compared to the <font color=\"green\">single-player</font> model, I will incorporate the following assumptions into the <font color=\"red\">multiple-player</font> model:\n",
        "\n",
        "> <font color='yellow'>Assumption 1</font>: &emsp; If the goal-scoring probability of player $i$ shows a different sensitivity to the *factors* than player $j$ does, then this <br> &emsp;&emsp;&emsp;&emsp;&emsp;&emsp;&emsp;&emsp;&emsp;&emsp;&emsp;&emsp;&emsp;&emsp;&emsp;&emsp;&emsp;&emsp;&emsp;&emsp;&emsp;&emsp;&emsp;&emsp;&emsp; should be a sign of *adaptivity* of a given player. This should then not be reflected in $\\beta_i$, but in our skill/ability <br> &emsp;&emsp;&emsp;&emsp;&emsp;&emsp;&emsp;&emsp;&emsp;&emsp;&emsp;&emsp;&emsp;&emsp;&emsp;&emsp;&emsp;&emsp;&emsp;&emsp;&emsp;&emsp;&emsp;&emsp;&emsp; parameter $\\alpha_i$. Hence, there won't be any player-specific *factor*-loadings, $\\beta_i \\;$! <br> &emsp;&emsp;&emsp;&emsp;&emsp;&emsp;&emsp;&emsp;&emsp;&emsp;&emsp;&emsp;&emsp;&emsp;&emsp;&emsp;&emsp;&emsp;&emsp;&emsp;&emsp;&emsp;&emsp;&emsp;&emsp; Our  $\\beta$-vector of *factor*-loadings will be *common* across all players!\n",
        "\n",
        "<br>\n",
        "\n",
        "> <font color='yellow'>Assumption 2</font>: &emsp; What if our players got better (or worse) over time (i.e. let's allow for \"seasonal\" skill) ?!\n",
        "\n",
        "<br>\n",
        "\n",
        "Thus, we have:\n",
        "\n",
        "- **individual** skill-/ability-coefficient, that **varies by season**: $\\alpha_{i,s}$\n",
        "\n",
        "- **common** loadings on team-statistics: $\\beta$\n",
        "\n",
        "<br>\n",
        "<br>\n",
        "\n",
        "**Model**:\n",
        "\n",
        "\n",
        "\\begin{align}\n",
        "     p_{i,s} \\equiv   P\\left(Y_{i,s} = 1 | \\mathbf{X}_{i,s}, \\alpha_{i,s}, \\beta \\right) = \\sigma \\left(\\alpha_{i,s} + \\mathbf{X}_{i,s} \\, \\mathbf{\\beta} \\right) \\qquad \\left( 2 \\right )\n",
        "\\end{align}\n",
        "\n",
        "<br>\n",
        "\n",
        "<font color=\"darkred\">**NOTE**</font>: &emsp; Since our skill/ability parameter ($\\alpha_{i,s,}$) now carries a subscript $s$, I have also attached it <br> &ensp;&ensp;&ensp;&ensp;&ensp;&ensp;&emsp; to our observed outcome variable ($Y_{i,s}$), and our *factors* ($\\mathbf{X}_{i,s}$) ."
      ]
    },
    {
      "cell_type": "markdown",
      "source": [
        "<br>\n",
        "\n",
        "================================================ <font color='green'>**TASK 1 -- START**</font> ================================================\n",
        "\n",
        "<br>\n",
        "\n",
        "Now, using Equation $\\left(2\\right)$ above, set up the model by thinking about:\n",
        "\n",
        "\n",
        "- which distributions are appropriate as priors for the parameters $\\left(\\alpha_{i,s}, \\beta\\right)$ in our model?\n",
        "- which distribution best describes the traget variable $\\mathbf{Y}_{i,s}$?\n",
        "\n",
        "<br>\n",
        "\n",
        "<font color='red'>**NOTE**</font>: Again, the model container below gives you some hints, but don't feel obliged to follow the exact same structure. I will not set any hyperpriors, but feel free to play around and be creative."
      ],
      "metadata": {
        "id": "ooR8LDVoHWzd"
      }
    },
    {
      "cell_type": "code",
      "execution_count": null,
      "metadata": {
        "id": "i32bxGiFxZ1R"
      },
      "outputs": [],
      "source": [
        "# ========================================== Define the Model ================================================= #\n",
        "\n",
        "# --- Create a 'player_season' indicator\n",
        "data['player_season'] = ____\n",
        "\n",
        "# --- Get your Players' indices --> Now differentiated by Season!\n",
        "player_idxs, players = ____\n",
        "\n",
        "coords = {\"players\": players, \"obs_id\":np.arange(len(player_idxs))}\n",
        "\n",
        "with pm.Model(coords=coords) as SFM_multi:\n",
        "\n",
        "\n",
        "  # --- We want to allow for the possibility of player-specific Skill-/Ability-Parameters\n",
        "  player_idx = ____\n",
        "\n",
        "\n",
        "  # --- Set your priors:\n",
        "\n",
        "  # --- \"\\alpha\", i.e. the parameter that will give us the Player's ability\n",
        "  alpha = ____\n",
        "\n",
        "  # --- \"\\beta(s)\": the features are designed such that higher/more positive values,\n",
        "  #     should INCREASE the likelihood of the player scoring ---> i.e. this \"decreases\" 'alpha'\n",
        "  #     ---> Option 1:  model \"\\beta(s)\" to be positive numbers\n",
        "  #     ---> Option 2:  let's be agnostic and allow for negative values as well\n",
        "  beta = ____\n",
        "\n",
        "  # --- Probability of Scoring:\n",
        "  p_score = ____\n",
        "\n",
        "  # --- Fit the Data:\n",
        "  likelihood = ____\n"
      ]
    },
    {
      "cell_type": "markdown",
      "source": [
        "================================================ <font color='green'>**TASK 1 -- END**</font> =================================================\n",
        "\n",
        "<br>"
      ],
      "metadata": {
        "id": "umof5XEJIMGM"
      }
    },
    {
      "cell_type": "code",
      "execution_count": null,
      "metadata": {
        "id": "8nFiPJiurtRq"
      },
      "outputs": [],
      "source": [
        "# --- What does our model look like?\n",
        "pm.model_to_graphviz(SFM_multi)"
      ]
    },
    {
      "cell_type": "markdown",
      "source": [
        "<br>\n",
        "\n",
        "================================================ <font color='green'>**TASK 2 -- START**</font> ================================================\n",
        "\n",
        "<br>\n",
        "\n",
        "Draw from the posterior distribution:\n",
        "- number of samples: &ensp;  &thinsp; &thinsp; &ensp; 10.000\n",
        "- number of burn-in steps:  &emsp; 10.000"
      ],
      "metadata": {
        "id": "9jEodZC_I5Mt"
      }
    },
    {
      "cell_type": "code",
      "execution_count": null,
      "metadata": {
        "id": "w7IJ2cEwxZ1T"
      },
      "outputs": [],
      "source": [
        "# ========================================== Click the Inference Button ================================================= #\n",
        "\n",
        "with SFM_multi:\n",
        "\n",
        "  trace_multi = ____"
      ]
    },
    {
      "cell_type": "markdown",
      "source": [
        "\n",
        "================================================ <font color='green'>**TASK 2 -- End**</font>  ================================================="
      ],
      "metadata": {
        "id": "To9VBqEIJIzF"
      }
    },
    {
      "cell_type": "markdown",
      "source": [
        "<br>\n",
        "\n",
        "How did our sampling go? Do the traces look reasonable?\n",
        "\n",
        "<br>\n",
        "\n",
        "**Some Diagnostics of our Sampling**\n",
        "\n",
        "The `traceplot` should look similar to the one for a single player. Only that we will now see a trace for each of our $\\alpha_{i,s}$.\n",
        "When running the following cell, the picture on the right-hand-side should therefore look something like the following -- depending on how many players you have previously specified:\n",
        "\n",
        "<br>\n",
        "\n",
        "![image.png](data:image/png;base64,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)\n",
        "\n"
      ],
      "metadata": {
        "id": "J5QEmDp1fN-q"
      }
    },
    {
      "cell_type": "markdown",
      "source": [
        "<br>\n",
        "\n",
        "================================================ <font color='green'>**TASK 3 -- START**</font> ================================================\n",
        "\n",
        "<br>\n",
        "\n",
        "Plot the trace of the Markov chains."
      ],
      "metadata": {
        "id": "uWGCLnr8JWra"
      }
    },
    {
      "cell_type": "code",
      "execution_count": null,
      "metadata": {
        "id": "6qSwjPGTxZ1U"
      },
      "outputs": [],
      "source": [
        "# ========================================== Diagnostics ================================================= #\n",
        "\n",
        "with SFM_multi:\n",
        "\n",
        "  traceplot = ____"
      ]
    },
    {
      "cell_type": "markdown",
      "source": [
        "================================================ <font color='green'>**TASK 3 -- END**</font> ================================================="
      ],
      "metadata": {
        "id": "tFpQxoRnJd-1"
      }
    },
    {
      "cell_type": "markdown",
      "source": [
        "<br>\n",
        "\n",
        "The picture on the left-hand-side already gives us a first impression of our main parameter of interest: the individual skill/ability of player $i$ in season $s$:  $\\hat{\\alpha}_{i,s}$ .\n",
        "\n",
        "<br>\n",
        "\n",
        "Looking at all the densities in a single graph can be quite informative, but someone might want to look at the posterior for each player seperately. [#PyMC](https://www.pymc.io/welcome.html) offers a simple and neat way to do that!"
      ],
      "metadata": {
        "id": "2VtMtgDRfjSe"
      }
    },
    {
      "cell_type": "markdown",
      "source": [
        "<br>\n",
        "\n",
        "================================================ <font color='green'>**TASK 4 -- START**</font> ================================================\n",
        "\n",
        "<br>\n",
        "\n",
        "Plot the posterior distribution for $\\alpha_i$ for each player separately."
      ],
      "metadata": {
        "id": "sqO2Hgw8JRwF"
      }
    },
    {
      "cell_type": "code",
      "execution_count": null,
      "metadata": {
        "id": "-keBPJvjxZ1V"
      },
      "outputs": [],
      "source": [
        "# ========================================== Diagnostics: Plot Posterior ================================================= #\n",
        "\n",
        "with SFM_multi:\n",
        "\n",
        "  az.____"
      ]
    },
    {
      "cell_type": "markdown",
      "source": [
        "================================================ <font color='green'>**TASK 4 -- END**</font> ================================================="
      ],
      "metadata": {
        "id": "q0lv__ekJrHz"
      }
    },
    {
      "cell_type": "markdown",
      "source": [
        "<br>\n",
        "\n",
        "Let's use an alterantive visualization technique that allows us to easily compare the posteriors of each of our $\\alpha_{i,s}$ in a single chart ! ... Yeah, with many players it looks aweful ... but we already get a really nice overview of how the palyers' skill/ability compares to one another!"
      ],
      "metadata": {
        "id": "emKgU5vRQ1OX"
      }
    },
    {
      "cell_type": "code",
      "execution_count": null,
      "metadata": {
        "id": "bk6xJM4H2BVg"
      },
      "outputs": [],
      "source": [
        "# ================================== Diagnostics: Plot Posterior -- Alternative Layout ====================================== #\n",
        "\n",
        "with SFM_multi:\n",
        "\n",
        "  az.plot_forest(trace_multi, var_names=[\"alpha\"], combined=True)"
      ]
    },
    {
      "cell_type": "markdown",
      "metadata": {
        "id": "ial8s8OqxZ1W"
      },
      "source": [
        "<br>\n",
        "\n",
        "\n",
        "Looks all quite pretty -- hopefully ... but now let's do what we are here for and answer our main research question:\n",
        "\n",
        "<br>\n",
        "\n",
        "\n",
        "<center><font color='gold' size=4.5>\" What is the probability of a player scoring, based only on his Skill/Ability? \"</font></center>\n",
        "\n",
        "<br>\n",
        "\n",
        "Said differently, what is a player's probability of scoring if all teams were equally strong (or weak)?\n",
        "\n",
        "<br>\n",
        "\n",
        "Here we'll go on a little detour. Note that instead of using the $\\mathtt{sigmoid}$ function, we can rewrite Equation $\\left( 2 \\right)$ in form of the log-odds-ratio:\n",
        "\n",
        "<br>\n",
        "\n",
        "\\begin{align}\n",
        "     log\\left(\\frac{\\hat{p}_{i,s}}{1-\\hat{p}_{i,s}}\\right) = \\hat{\\alpha}_{i,s} + \\mathbf{X}_{i,s} \\, \\mathbf{\\hat{\\beta}}\n",
        "\\end{align}\n",
        "\n",
        "where the little hat above our parameters $\\left( \\hat{} \\right)$ means that these are *estimates* that we draw from the joint-posterior distribution (`trace.posterior`).\n",
        "\n",
        "<br>\n",
        "\n",
        "As in the case where our object of interest was just a *single* player, we run through the following steps to answer our research-question:\n",
        "\n",
        "> 1. By assuming that *all teams are equally strong*, we set all our \"factors\" ($\\mathbf{X}_{i,s}$) to 0, such that our model reduces to:\n",
        "\n",
        "$$log\\left(\\frac{\\hat{p}_{i,s}}{1-\\hat{p}_{i,s}}\\right) = \\hat{\\alpha}_{i,s}$$\n",
        "\n",
        "> 2. Then, we get the probability $\\hat{p}_{i,s}$ by rearranging:\n",
        "\n",
        "$$\\hat{p}_{i,s} = \\frac{e^{\\hat{\\alpha}_{i,s}}}{1+e^{\\hat{\\alpha}_{i,s}}}$$\n",
        "\n",
        "\n",
        "> 3. Which value to choose for $\\hat{\\alpha}_{i,s}$? The *mean* or the *median*?\n",
        "I mostly go with the *median*, but feel free to play around."
      ]
    },
    {
      "cell_type": "markdown",
      "source": [
        "================================================ <font color='green'>**TASK 5 -- START**</font> ================================================\n",
        "\n",
        "<br>\n",
        "\n",
        "1. For each player $i = 1,...,N$ and each season $s = 1,...,S$, calculate the *mean*, respectively *median*, for the skill/ability parameter ${\\hat{\\alpha}}_{i,s}$.\n",
        "\n",
        "\n",
        "2. Transform the skill/ability parameter ${\\hat{\\alpha}}_{i,s}$ into the corresponding probability $\\hat{p}_{i,s}$. <br>\n",
        "Said differently: calculate the mean/median probability of player $i$ scoring a goal in a given match in season $s$, only based on his skill/ability."
      ],
      "metadata": {
        "id": "aRZpHgPLJ4Qv"
      }
    },
    {
      "cell_type": "code",
      "execution_count": null,
      "metadata": {
        "id": "Q5H5gf5VxZ1W"
      },
      "outputs": [],
      "source": [
        "# ================================== Player Skill/Ability ---> Probability of Scoring ====================================== #\n",
        "for pp in range(len(players)):\n",
        "\n",
        "  # ================================== TASK 5 -- Part 1 ================================== #\n",
        "\n",
        "  # --- Let's choose the mean\n",
        "  alpha_mean = ____\n",
        "  print(\"\\nMean Skill ---\",players[pp],\":   \", np.round(alpha_mean, 2))\n",
        "\n",
        "  # --- Or the median\n",
        "  alpha_median = ____\n",
        "  print(\"Median Skill ---\",players[pp],\": \", np.round(alpha_median, 2))\n",
        "\n",
        "\n",
        "  # ================================== TASK 5 -- Part 2 ================================== #\n",
        "\n",
        "  # ---- Probability of Scoring, conditioning on Skill/Ability only (choose either 'alpha_mean' or 'alpha_median'):\n",
        "  prob = ____\n",
        "\n",
        "  print(\"Probability of Scoring (only based on Skill) ---\",players[pp],\": \", np.round( prob ,2))"
      ]
    },
    {
      "cell_type": "markdown",
      "source": [
        "================================================ <font color='green'>**TASK 5 -- END**</font> =================================================\n"
      ],
      "metadata": {
        "id": "u2YW6CoCMdRM"
      }
    },
    {
      "cell_type": "markdown",
      "metadata": {
        "id": "tWrAvS2JxZ1X"
      },
      "source": [
        "<br>\n",
        "\n",
        "================================================ <font color='green'>**TASK 6 -- START**</font> ================================================\n",
        "\n",
        "<br>\n",
        "\n",
        "**Let's define the Uncertainty around our Point Prediction**\n",
        "\n",
        "That is, define the boundaries $\\left[\\hat{p}^{low}_{i,s},\\hat{p}^{up}_{i,s}\\right]$ of the range, within which our point-estimate $\\hat{p}_{i,s}$ ranges with `cred_region` % of certainty."
      ]
    },
    {
      "cell_type": "code",
      "execution_count": null,
      "metadata": {
        "id": "zOyyWqd2xZ1Y"
      },
      "outputs": [],
      "source": [
        "# ======================== Player Skill/Ability ---> Probability of Scoring --- Across all Seasons ============================= #\n",
        "\n",
        "\n",
        "# ---- Let's define the credible region:\n",
        "cred_region = 0.95\n",
        "\n",
        "\n",
        "# --- We will also store the probabilities for each player 'by season' and 'across seasons'. This will come in handy quite shortly ...\n",
        "Player_Skill_season = {key: [] for key in players}\n",
        "Player_Skill = {key: [] for key in np.unique(data['name_player'])}\n",
        "\n",
        "print(\"Credible Region: \", cred_region * 100,\"% \\n\")\n",
        "for pp in range(len(players)):\n",
        "\n",
        "  # --- --- Get the \"alpha\" value at the lower- and upper-bounds\n",
        "  alpha_post_up = ____\n",
        "  alpha_post_median = ____\n",
        "  alpha_post_low = ____\n",
        "\n",
        "  # --- --- Convert to Probabilities\n",
        "  prob_up = ____\n",
        "  prob_median = ____\n",
        "  prob_low = ____\n",
        "\n",
        "  print(\"Probability of Scoring (only based on Skill) -- Lower Bound ---\",players[pp],\": \", np.round( prob_low ,2))\n",
        "  print(\"Probability of Scoring (only based on Skill) --    Median   ---\",players[pp],\": \", np.round( prob_median ,2))\n",
        "  print(\"Probability of Scoring (only based on Skill) -- Upper Bound ---\",players[pp],\": \", np.round( prob_up ,2))\n",
        "  print(\"\\n\")\n",
        "\n",
        "  # --- --- Store the median probabilities by season\n",
        "  Player_Skill_season[players[pp]] = prob_median\n",
        "\n",
        "  # --- --- Store the median probabilities across seasons\n",
        "  pp_name = players[pp][0:(len(players[pp])-8)]\n",
        "  Player_Skill[pp_name].append(prob_median)\n"
      ]
    },
    {
      "cell_type": "markdown",
      "source": [
        "================================================ <font color='green'>**TASK 6 -- END**</font> =================================================\n",
        "\n",
        "<br>"
      ],
      "metadata": {
        "id": "1OmAlsSySJz7"
      }
    },
    {
      "cell_type": "markdown",
      "metadata": {
        "id": "PL-3sLUiUbdE"
      },
      "source": [
        "\n",
        "\n",
        "Again a whole load of numbers to digest! They contain a lot of interesting information though:\n",
        "\n",
        "They tell us for each player $i$ ...\n",
        "> - ... the *median* probability ( $\\bar{p}_{i,s}$ ) of scoring in each match in season $s$ based only on his skill and ability;\n",
        "> - ... the lower and upper bounds of the range that $p_{i,s}$ falls in, with `cred_region` certainty\n",
        "\n",
        "<br>\n",
        "\n",
        "That's cool!\n",
        "But maybe we can do something even more insightful that helps us understand the effect of player $i$'s team on his probability of scoring!\n",
        "\n",
        "\n",
        "<br><br>\n",
        "Therefore, let's have alook at the **excess-skill-metric** $S_{i,s}$. It compares each player's probability of scoring ($\\hat{p}_{i,s}$) when accounting for both his ability and his team's strength ($\\hat{\\alpha}_{i,s} + \\mathbf{X}_{i,s} \\, \\hat{\\beta}$) to the probability of him scoring when only accounting for his own skill/ability ($\\hat{\\alpha}_{i,s}$):\n",
        "\n",
        " $$ S_{i,s} = \\frac{\\frac{e^{\\hat{\\alpha}_{i,s}}}{1 \\; + \\; e^{\\hat{\\alpha}_{i,s}}}}{\\frac{e^{\\hat{\\alpha}_{i,s} + \\mathbf{X}_{i,s} \\, \\hat{\\beta}}}{1 \\; + \\; e^{\\hat{\\alpha}_{i,s} + \\mathbf{X}_{i,s} \\, \\hat{\\beta}}}} \\quad ,$$\n",
        "\n",
        "where $S_{i,s} > 1$ tells us that -- according to the model -- the player's scoring probability was dragged down by his team's performance. Said differently, player $i$'s full potential did not come through while playing for that particular team in season $s$.\n",
        "\n",
        "\n",
        "<br>\n",
        "\n",
        "Since we already have stored the estimates for the numerator in `Player_Skill_season`, the only thing that is left to compute $S_{i,s}$ is the denominator.\n",
        "\n",
        "To estimate the full model ( $\\hat{\\alpha}_{i,s} + \\mathbf{X}_{i,s} \\, \\hat{\\beta}$ ), we could again draw all our parameter-samples from the posterior via `trace_multi.posterior` and simulate some predictions ($\\hat{p}_{i,s}$) using our observed factors $\\mathbf{X}_{i,s}$. But that sounds like a lot of manual work ...\n",
        "\n",
        "<br>\n",
        "\n",
        "... **but with [#PyMC](https://www.pymc.io/welcome.html) it's pretty easy!** The `trace_multi.posterior[\"p_score\"]` array has already got everything what we are looking for, namely the denominator in $S_{i,s}$.\n",
        "\n",
        "<br>\n",
        "\n",
        "Awesome! Let's compute our $S_{i,s}$ statistic as described above:"
      ]
    },
    {
      "cell_type": "code",
      "source": [
        "# ========================================== A Player's EXCESS Skill/Ability ========================================== #\n",
        "\n",
        "# --- As above, we will store the probabilities for each player 'by season' and 'across seasons'\n",
        "Player_ProbScore_season = {key: [] for key in players}\n",
        "Player_ProbScore = {key: [] for key in np.unique(data['name_player'])}\n",
        "\n",
        "\n",
        "for pp in range(len(my_player)):\n",
        "\n",
        "  # --- Get the range in the \"likelihood-database\" that gives you the predictions for player \"i\" in season \"s\"\n",
        "  # --- --- Extract the seasons that the player has played\n",
        "  season_s = pd.unique(MY_PLAYER[my_player[pp]].season)\n",
        "\n",
        "  if pp == 0:\n",
        "    range_prev = 0\n",
        "  else:\n",
        "    range_prev = np.sum([MY_PLAYER[my_player[prev]].shape[0] for prev in range(pp)])\n",
        "\n",
        "\n",
        "  for ss in range(len(season_s)):\n",
        "\n",
        "    index_ss = MY_PLAYER[my_player[pp]].index[MY_PLAYER[my_player[pp]].season == season_s[ss]]\n",
        "\n",
        "    # --- Get the range in the \"likelihood-database\" that gives you the predictions for player \"i\"\n",
        "    range_start = range_prev + index_ss[0]\n",
        "    range_end = range_prev + index_ss[-1]\n",
        "\n",
        "    #pred_samples = ppc.posterior_predictive.data_vars[\"likelihood\"][:,:,range(range_start,range_end)].values\n",
        "    pred_samples = trace_multi.posterior[\"p_score\"][:,:,range(range_start,range_end)].values\n",
        "\n",
        "    # --- Get the Mean\n",
        "    mean = np.mean(pred_samples).flatten()\n",
        "\n",
        "    # --- Get the Median --> can be used instead of the mean\n",
        "    median = np.median(pred_samples).flatten()\n",
        "\n",
        "    # --- --- Store the median probabilities by season\n",
        "    pp_name = my_player[pp] + \" \" + season_s[ss]\n",
        "    Player_ProbScore_season[pp_name] = mean\n",
        "\n",
        "    # --- --- Store the median probabilities across seasons\n",
        "    Player_ProbScore[my_player[pp]].append(mean)"
      ],
      "metadata": {
        "id": "HhGzB90DuvvL"
      },
      "execution_count": null,
      "outputs": []
    },
    {
      "cell_type": "markdown",
      "source": [
        "<br>\n",
        "\n",
        "So let's plot $S_{i,s}$, i.e. player $i$'s *excess-skill* in season $s$!\n",
        "\n",
        "<br>\n",
        "\n",
        "> Recall: $\\,$ if $S_{i,s} > 1$ -- accordng to the model -- the player is *under-valued* compared to his inherent skill/ability, <br> &emsp;&emsp;&emsp;&emsp;&emsp;&emsp;&emsp;&emsp;&emsp;&emsp;&emsp;&ensp; i.e. the player actually has **excess skill** but his own team is dragging him down."
      ],
      "metadata": {
        "id": "bpX0YNRBZTAp"
      }
    },
    {
      "cell_type": "code",
      "source": [
        "# --- Initialize the plotting-dataframe\n",
        "plot_df = pd.DataFrame({\"players\": Player_ProbScore_season.keys()})\n",
        "\n",
        "# --- Assemble the ability-/skill-statistics that you have alreday calculated previously\n",
        "plot_df[\"S\"] = [(Player_Skill_season[pp] / Player_ProbScore_season[pp])[0] for pp in plot_df[\"players\"]]\n",
        "\n",
        "# --- Sort the dataframe descendingly according to 'S'\n",
        "plot_df = plot_df.sort_values(by=\"S\", ascending=False, ignore_index=1)\n",
        "\n",
        "# --- Start plotting!\n",
        "fig, ax = plt.subplots(1,1,figsize=(7.5,15))\n",
        "ax.barh(np.arange(plot_df.shape[0]), plot_df[\"S\"].values)\n",
        "ax.axvline(x=1,color='black',lw=2)\n",
        "ax.set_yticks(np.arange(plot_df.shape[0]))\n",
        "ax.set_yticklabels(list(plot_df[\"players\"]))\n",
        "ax.invert_yaxis()\n",
        "ax.set_title(\"Has a Player been Undervalued? \\n $S_{i,s} > 1$\")\n",
        "ax.set_xlabel(\"Excess-Skill ($S_{i,s}$)\")\n",
        "\n",
        "# --- --- Attach the 'S' metric:\n",
        "for i, _ in enumerate(plot_df['S']):\n",
        "    ax.text(plot_df.loc[i,'S'] + .005, i + .25, str(np.round(plot_df.loc[i,'S'],2)), color='red')"
      ],
      "metadata": {
        "id": "ab0I0Su6ZRw8"
      },
      "execution_count": null,
      "outputs": []
    },
    {
      "cell_type": "markdown",
      "source": [
        "<br>\n",
        "\n",
        "Again, with a lot of players in our sample, this figure can get crowded ...\n",
        "\n",
        "Let's look at a certain subgroup, e.g. the top (bottom) 10.\n"
      ],
      "metadata": {
        "id": "SLCQx5Q0aiR0"
      }
    },
    {
      "cell_type": "code",
      "source": [
        "# --- To get the Top 10, run this cell\n",
        "sub_plot_df = plot_df.head(10)"
      ],
      "metadata": {
        "id": "Wi-W3SwLmF5N"
      },
      "execution_count": null,
      "outputs": []
    },
    {
      "cell_type": "code",
      "source": [
        "# --- To get the Bottom 10, run this cell\n",
        "sub_plot_df = plot_df.tail(10).reset_index(drop=True)"
      ],
      "metadata": {
        "id": "tRliFBQBmZMr"
      },
      "execution_count": null,
      "outputs": []
    },
    {
      "cell_type": "code",
      "source": [
        "# --- Plot the subgroup\n",
        "fig, ax = plt.subplots(1,1,figsize=(5,5))\n",
        "ax.barh(np.arange(sub_plot_df.shape[0]), sub_plot_df[\"S\"].values)\n",
        "ax.axvline(x=1,color='black',lw=2)\n",
        "ax.set_yticks(np.arange(sub_plot_df.shape[0]))\n",
        "ax.set_yticklabels(list(sub_plot_df[\"players\"]))\n",
        "ax.invert_yaxis()\n",
        "ax.set_title(\"Has a Player been Undervalued? \\n $S_{i,s} > 1$\")\n",
        "ax.set_xlabel(\"Excess-Skill ($S_{i,s}$)\")\n",
        "\n",
        "# --- --- Attach the 'S' metric:\n",
        "for i, _ in enumerate(sub_plot_df['S']):\n",
        "    ax.text(sub_plot_df.loc[i,'S'] + .005, i + .25, str(np.round(sub_plot_df.loc[i,'S'],2)), color='red')"
      ],
      "metadata": {
        "id": "EFkZ3Opbl7tl"
      },
      "execution_count": null,
      "outputs": []
    },
    {
      "cell_type": "markdown",
      "source": [
        "<br>\n",
        "\n",
        "But it could also be interesting to look **across seasons**! <br>\n",
        "Let's just apply a summary metric (naturally the *mean* or *median*) on $S_{i,s}$ (where $S_{i,s}$ itself is either the *mean* or *median* of samples from the posterior distribution) across $s$, and get $S_{i}$, i.e. player $i$'s *excess-skill* across all seasons $s$."
      ],
      "metadata": {
        "id": "fY8V_wzDl14A"
      }
    },
    {
      "cell_type": "code",
      "source": [
        "# --- Set up the data frame for plotting\n",
        "plot_df = pd.DataFrame({\"players\": Player_ProbScore.keys()})\n",
        "# --- Calculate \"S\": use either 'mean' or 'median'\n",
        "plot_df[\"S\"] = [np.median(Player_Skill[pp]) / np.median(Player_ProbScore[pp]) for pp in plot_df[\"players\"]]\n",
        "# --- Sort the dataframe descendingly according to 'S'\n",
        "plot_df = plot_df.sort_values(by=\"S\", ascending=False, ignore_index=1)\n",
        "\n",
        "\n",
        "# --- Plot the results\n",
        "fig, ax = plt.subplots(1,1,figsize=(5,5))\n",
        "ax.barh(np.arange(plot_df.shape[0]), plot_df[\"S\"].values)\n",
        "ax.axvline(x=1,color='black',lw=2)\n",
        "ax.set_yticks(np.arange(plot_df.shape[0]))\n",
        "ax.set_yticklabels(list(plot_df[\"players\"]))\n",
        "ax.invert_yaxis()\n",
        "ax.set_xlim(0,1.2)\n",
        "ax.set_title(\"Has a Player been Undervalued? \\n $S_{i} > 1$\")\n",
        "ax.set_xlabel(\"Excess-Skill ($S_{i}$)\")\n",
        "\n",
        "# --- --- Attach the 'S' metric:\n",
        "for i, _ in enumerate(plot_df['S']):\n",
        "    ax.text(plot_df.loc[i,'S'] + .005, i + .25, str(np.round(plot_df.loc[i,'S'],2)), color='red')"
      ],
      "metadata": {
        "id": "VCVQegHraxZI"
      },
      "execution_count": null,
      "outputs": []
    },
    {
      "cell_type": "markdown",
      "metadata": {
        "id": "baUYKWbQxTdg"
      },
      "source": [
        "<br>\n",
        "\n",
        "\n",
        "To recap again: the purpose of $S_{i}$ or $S_{i,s}$ is to evaluate how a  player's probability of scoring only based on his skill/ability, $\\; P\\left(Y_{i,s} | \\hat{\\alpha}_i \\right) \\;$, compares to the probability of him scoring when we also account for his team's strength, $\\; P\\left(Y_{i,s} | \\mathbf{X}_{i,s}\\, , \\hat{\\alpha}_i \\, , \\hat{\\beta} \\right) \\;$. <br>\n",
        "Keep in mind that we have built these metrics based on the posterior distribution's *median* (or the *mean*) -- hence, a single point-estimate only. We haven't said anything about the uncertainty around that single number.\n",
        "\n",
        "But enough for now. Let's go with the academic jargon and say: \"Specifying some credible interval around our point-estimate for $S_{i}$ or $S_{i,s}$ is *left for future research*\".\n",
        "\n",
        "\n",
        "<br><br>\n",
        "\n",
        "On to the last part! As in the single-player example we should ask ourselves ...\n",
        "\n",
        "... <font size=\"4\">**is our model actually any good, or just producing complete crap?**</font>\n",
        "\n",
        "That is, let's have a look at what our model tells us about the probability of player $i$ scoring a goal ($\\hat{Y}_{i,s}$), and how well these *in-sample* predictions match the observed occurrences ($Y_{i,s}$).\n",
        "\n",
        "<br><br>\n",
        "\n",
        "In the following I'll get rid of the subscript $s$ by calculating the metrics for each player $i$ across all seasons $s$, such that $\\hat{Y}_{i}$ and $Y_{i}$ are column-vectors of length $L_i = \\sum^S_{s=1} M_{i,s} \\,$, where $M_{i,s}$ is the total number of matches played by player $i$ in season $s$.\n",
        "\n",
        "In order to get $\\hat{Y}$, we'll draw samples from the **Posterior Predictive Distribution**.\n",
        "That is, we compute a Bernoulli distribution based on samples of our posterior estimates for the probability of player $i$ scoring ($\\hat{p}_i$), which we extract from `trace_multi.posterior[\"p_score\"]`.\n",
        "What we get in return is a **binary** vector $\\hat{Y}$ made up of $0$ and $1$.\n",
        "\n",
        "<br><br>\n",
        "\n",
        "Then we can evaluate how well our model's predictions for a player scoring ($\\hat{Y}_i = 1$) or not ($\\hat{Y}_i = 0$) match our empricially observed data ($Y_i$). Some of the frequently used *evaluation metrics* to do that are:\n",
        "\n",
        "> - Mean-Squared Error (MSE): &emsp;&emsp;&emsp;&emsp;&emsp;&emsp;&emsp;&emsp;&emsp;&emsp;&emsp; the classical metric for regression-models;\n",
        "> - Log-Probability Loss (Log-Prob): &emsp;&emsp;&emsp; since we're dealing with a classification exercise;\n",
        "> - Area Under the Curve (AUC): &emsp;&emsp;&emsp;&emsp;&emsp;&emsp;&emsp;&emsp;&emsp;&emsp; maybe the most common metric for classification exercises;\n",
        "\n",
        "<br>\n",
        "\n",
        "I feel most comfortable with judging the model by looking at the AUC (often also called AUROC (Area Under the Receiver-Operating-Cost Curve)). The AUC tells us pretty neatly, whether our model actually adds some value to predict player $i$'s probability to score in the upcoming match.\n",
        "\n",
        "> $AUC_i = 0.5$: &ensp;&ensp; we can be pretty confident that our model is no good and we could have just tossed a coin instead.\n",
        "\n",
        "> $AUC_i = 1$: &ensp;&ensp;&ensp;&emsp; we've pretty much nailed it! Not only does our model accurately predict whether <br> &ensp;&ensp;&ensp;&ensp;&ensp;&ensp;&ensp;&ensp;&ensp;&ensp;&ensp;&ensp;&ensp;&ensp;&ensp; player $i$ scores in the upcoming match or not, but we have also done an awesome job in specifying our model <br> &ensp;&ensp;&ensp;&ensp;&ensp;&ensp;&ensp;&ensp;&ensp;&ensp;&ensp;&ensp;&ensp;&ensp;&ensp; (read: which team-factors to include and which not) !\n",
        "\n",
        "<br>\n",
        "\n",
        "<font color='darkred'>**DISCLAIMER**</font>: &emsp; Again, when I say \"*accurately predict*\", beware that this is en entirely *in-sample* (explanatory) analysis. The model may <br> &emsp;&emsp;&emsp;&emsp;&emsp;&emsp;&emsp;&emsp;&emsp;&emsp;&emsp;&emsp;&emsp;&emsp;&emsp;&emsp;&emsp;&emsp;&emsp;&emsp;&emsp;&emsp;&emsp;&emsp; potentially radically overfit, and then produce complete non-sense in an out-of-sample exercise, i.e. on data it has not yet seen.\n",
        "\n",
        "<br>\n",
        "\n",
        "While *overfitting* is a big concern, making out-of-sample predictions is not what this whole exercise had been intended to produce.\n",
        "That's why I'll save the testing of the model's out-of-sample performance for the future...\n",
        "\n",
        "\n",
        "<br><br>\n",
        "\n",
        "Enough rambling, let's move on to the evaluation..."
      ]
    },
    {
      "cell_type": "markdown",
      "source": [
        "<br>\n",
        "<br>\n",
        "\n",
        "================================================ <font color='green'>**TASK 7 -- START**</font> ================================================\n",
        "\n",
        "<br>\n",
        "\n",
        "**Check Evaluation Metrics across all Players**\n",
        "\n",
        "\n",
        "<br>\n",
        "\n",
        "As in the Single-Player exercise, let's evaluate our model's performance on the following metrics:\n",
        "\n",
        "- RMSE -- the square-root of the MSE; in classification exercises also called the *Brier Score*\n",
        "\n",
        "- Log-Prob\n",
        "\n",
        "- AUC\n",
        "\n",
        "<br>\n",
        "\n",
        "<font color='red'>**NOTE**</font>: Assess the **overall** performance of the model. That is, calculate each metric across **all players** and **all seasons**, i.e. a single number for each metric."
      ],
      "metadata": {
        "id": "ii-3JU9AXo4L"
      }
    },
    {
      "cell_type": "code",
      "execution_count": null,
      "metadata": {
        "id": "xCu0dipVvgZj"
      },
      "outputs": [],
      "source": [
        "# =================================== Get predictive samples ACROSS ALL PLAYERS and ALL SEASONS =================================== #\n",
        "\n",
        "pred_samples = trace_multi.____\n",
        "\n",
        "# --- Get the mean\n",
        "mean = ____\n",
        "\n",
        "rmse = ____\n",
        "log_prob = ____\n",
        "auc = ____\n",
        "print(\"RMSE --- All Players:     \", rmse)\n",
        "print(\"Log-Prob --- All Players: \", log_prob)\n",
        "print(\"AUC --- All Players:      \", auc)\n"
      ]
    },
    {
      "cell_type": "markdown",
      "source": [
        "================================================ <font color='green'>**TASK 7 -- END**</font> ================================================="
      ],
      "metadata": {
        "id": "6mnWucwNTVHE"
      }
    },
    {
      "cell_type": "markdown",
      "metadata": {
        "id": "Dasy1t2yw5nW"
      },
      "source": [
        "<br>\n",
        "\n",
        "\n",
        "Lastly, let's look at **each player individually, but across all seasons** ...\n",
        "\n",
        "\n",
        "**Check Evaluation Metrics by Player**"
      ]
    },
    {
      "cell_type": "code",
      "execution_count": null,
      "metadata": {
        "id": "DRrDSmNsxZ1b"
      },
      "outputs": [],
      "source": [
        "# ========================= Get predictive samples FOR EACH PLAYER INDVIDUALLY, but ACROSS ALL SEASONS =================================== #\n",
        "\n",
        "# --- --- Pre-define some variables for counting\n",
        "range_start = 0\n",
        "\n",
        "for pp in range(len(my_player)):\n",
        "\n",
        "  # --- Get the index of the entries for player \"i\"\n",
        "  range_end = range_start + MY_PLAYER[my_player[pp]].shape[0]\n",
        "\n",
        "  # --- Draw the probability of scoring based on the posterior of the model parameters 'alpha' and 'beta'\n",
        "  pred_samples = trace_multi.posterior[\"p_score\"][:,:,range(range_start,range_end)].values\n",
        "\n",
        "  # --- Get the Mean\n",
        "  mean = np.mean(pred_samples, axis=(0,1)).flatten()\n",
        "\n",
        "  # --- Extract Player pp's 'labels', i.e. observed outcomes:\n",
        "  Y_train_pp = np.array(MY_PLAYER[my_player[pp]].goal).flatten()\n",
        "\n",
        "\n",
        "  rmse = np.round(func_rmse(y_true=Y_train_pp,y_hat=mean),4)\n",
        "  log_prob = np.round(func_logprob(y_true=Y_train_pp,y_hat=mean),4)\n",
        "  auc = np.round(roc_auc_score(y_true=Y_train_pp,y_score=mean),4)\n",
        "  print(\"RMSE ---\",my_player[pp],\":     \", rmse)\n",
        "  print(\"Log-Prob ---\",my_player[pp],\": \", log_prob)\n",
        "  print(\"AUC ---\",my_player[pp],\":      \", auc)\n",
        "  print(\"\\n\")\n",
        "\n",
        "  # --- The end of the current player's range is the beginning of the next player's range:\n",
        "  #     As the German saying goes: \"After the game, is before the game!\" -- Sepp Herberger (Coach of the first German National Team to win the World Cup (1954))\n",
        "  range_start = range_end\n"
      ]
    },
    {
      "cell_type": "markdown",
      "source": [
        "<br><br>\n",
        "\n",
        "As in the *Single-Player*-case, we hopefully got some $AUC_i$ north of at least  $0.65$ -- or even better  $0.70$ (let's not shoot for the moon and hope to get something like $0.85$). If not, let's think again about our model."
      ],
      "metadata": {
        "id": "iK549wD-99Gk"
      }
    },
    {
      "cell_type": "markdown",
      "source": [
        "<br><br>\n",
        "\n",
        "## &emsp; &emsp; <font size=\"6.5\"> **3. &emsp; End of the Game -- On to the Post-Game Ramblings!**</font>\n",
        "\n",
        "Well, that was interesting! Though this is just an illustrative example, I'd be grateful for any sort of comments, criticism, and suggestions on how to improve the model.\n",
        "\n",
        "\n",
        "Some *avenues for future research* could be along the lines of:\n",
        "\n",
        "> - *Hierarchical* model extension, by making use of *hyper-priors*;\n",
        "> - Create additional *factors*;\n",
        "> - Build a *multinomial* model, which does not try to predict whether a player scores or not, but the *number of goals* he scores;\n",
        "> - ...\n",
        "\n",
        "Hope you enjoyed the journey! Please feel free to reach out at: [https://www.maximiliangoebel.com](https://www.maximiliangoebel.com)."
      ],
      "metadata": {
        "id": "BiRssbJ8IliT"
      }
    }
  ],
  "metadata": {
    "colab": {
      "provenance": [],
      "collapsed_sections": [
        "DObkizE8PqoD",
        "Tcy6PHBgPws3",
        "Yu5Vo3IHQKNW",
        "8qsWYhrlUF0t",
        "C4GKEEX1S5c3",
        "diX4wHzUeKBP",
        "Lmef5wjBc7dq",
        "yGxvSYdxyyCv",
        "50WHVQn1n-Fc",
        "D7ARwMSdZA_u",
        "dM4EPiCzCWGs",
        "xbMuwa8qgUXe"
      ]
    },
    "kernelspec": {
      "display_name": "Python 3",
      "name": "python3"
    },
    "language_info": {
      "name": "python"
    }
  },
  "nbformat": 4,
  "nbformat_minor": 0
}